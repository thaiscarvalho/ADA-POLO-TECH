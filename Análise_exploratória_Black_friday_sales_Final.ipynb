{
  "cells": [
    {
      "cell_type": "markdown",
      "metadata": {
        "id": "LbwZJsuBcCki"
      },
      "source": [
        "# **Análise exploratória do Dataset \"Black friday sales**\"\n",
        "Disponível em: https://www.kaggle.com/datasets/rajeshrampure/black-friday-sale\n",
        "\n",
        "Grupo 1: Alessa, Beatriz, Guilherme, João, Thais e Thiago"
      ]
    },
    {
      "cell_type": "code",
      "execution_count": null,
      "metadata": {
        "id": "HVsON4L0bTXl"
      },
      "outputs": [],
      "source": [
        "# #código para importar um arquivo do computador\n",
        "# from google.colab import files\n",
        "# uploaded = files.upload()"
      ]
    },
    {
      "cell_type": "code",
      "execution_count": null,
      "metadata": {
        "id": "OrOp6NGWtOnn"
      },
      "outputs": [],
      "source": [
        "import pandas as pd\n",
        "import numpy as np\n",
        "import matplotlib.pyplot as plt"
      ]
    },
    {
      "cell_type": "markdown",
      "metadata": {
        "id": "Y0avbkVvebFo"
      },
      "source": [
        "# **1. Apresentação do Dataset**"
      ]
    },
    {
      "cell_type": "markdown",
      "metadata": {
        "id": "JqStExXZHj61"
      },
      "source": [
        " **Descrição dos dados:**\n",
        "\n",
        "* Variable - Definição\n",
        "* User_ID - User ID\n",
        "* Product_ID - Product ID\n",
        "* Gender - Sexo do usuário\n",
        "* Age - Idade\n",
        "* Occupation - Ocupação (Masked)\n",
        "* City_Category - Categoria da cidades (A, B, C)\n",
        "* Stay_In_Current_City_Years - Anos de permanência na cidade atual\n",
        "* Marital_Status - Estado civil\n",
        "* Product_Category_1 - Categoria do produto (Masked)\n",
        "* Product_Category_2 - O produto pode pertencer a outras categorias também (Masked)\n",
        "* Product_Category_3 - O produto pode pertencer a outras categorias também (Masked)\n",
        "* Purchase - Valor da compra (Variável) \n",
        "\n"
      ]
    },
    {
      "cell_type": "code",
      "execution_count": null,
      "metadata": {
        "colab": {
          "base_uri": "https://localhost:8080/",
          "height": 340
        },
        "id": "oBRvvsVljRnf",
        "outputId": "4cc6bf92-7dad-4611-f773-e20c9b645d55"
      },
      "outputs": [
        {
          "data": {
            "text/html": [
              "<div>\n",
              "<style scoped>\n",
              "    .dataframe tbody tr th:only-of-type {\n",
              "        vertical-align: middle;\n",
              "    }\n",
              "\n",
              "    .dataframe tbody tr th {\n",
              "        vertical-align: top;\n",
              "    }\n",
              "\n",
              "    .dataframe thead th {\n",
              "        text-align: right;\n",
              "    }\n",
              "</style>\n",
              "<table border=\"1\" class=\"dataframe\">\n",
              "  <thead>\n",
              "    <tr style=\"text-align: right;\">\n",
              "      <th></th>\n",
              "      <th>User_ID</th>\n",
              "      <th>Product_ID</th>\n",
              "      <th>Gender</th>\n",
              "      <th>Age</th>\n",
              "      <th>Occupation</th>\n",
              "      <th>City_Category</th>\n",
              "      <th>Stay_In_Current_City_Years</th>\n",
              "      <th>Marital_Status</th>\n",
              "      <th>Product_Category_1</th>\n",
              "      <th>Product_Category_2</th>\n",
              "      <th>Product_Category_3</th>\n",
              "      <th>Purchase</th>\n",
              "    </tr>\n",
              "  </thead>\n",
              "  <tbody>\n",
              "    <tr>\n",
              "      <th>0</th>\n",
              "      <td>1000001</td>\n",
              "      <td>P00069042</td>\n",
              "      <td>F</td>\n",
              "      <td>0-17</td>\n",
              "      <td>10</td>\n",
              "      <td>A</td>\n",
              "      <td>2</td>\n",
              "      <td>0</td>\n",
              "      <td>3</td>\n",
              "      <td>NaN</td>\n",
              "      <td>NaN</td>\n",
              "      <td>8370</td>\n",
              "    </tr>\n",
              "    <tr>\n",
              "      <th>1</th>\n",
              "      <td>1000001</td>\n",
              "      <td>P00248942</td>\n",
              "      <td>F</td>\n",
              "      <td>0-17</td>\n",
              "      <td>10</td>\n",
              "      <td>A</td>\n",
              "      <td>2</td>\n",
              "      <td>0</td>\n",
              "      <td>1</td>\n",
              "      <td>6.0</td>\n",
              "      <td>14.0</td>\n",
              "      <td>15200</td>\n",
              "    </tr>\n",
              "    <tr>\n",
              "      <th>2</th>\n",
              "      <td>1000001</td>\n",
              "      <td>P00087842</td>\n",
              "      <td>F</td>\n",
              "      <td>0-17</td>\n",
              "      <td>10</td>\n",
              "      <td>A</td>\n",
              "      <td>2</td>\n",
              "      <td>0</td>\n",
              "      <td>12</td>\n",
              "      <td>NaN</td>\n",
              "      <td>NaN</td>\n",
              "      <td>1422</td>\n",
              "    </tr>\n",
              "    <tr>\n",
              "      <th>3</th>\n",
              "      <td>1000001</td>\n",
              "      <td>P00085442</td>\n",
              "      <td>F</td>\n",
              "      <td>0-17</td>\n",
              "      <td>10</td>\n",
              "      <td>A</td>\n",
              "      <td>2</td>\n",
              "      <td>0</td>\n",
              "      <td>12</td>\n",
              "      <td>14.0</td>\n",
              "      <td>NaN</td>\n",
              "      <td>1057</td>\n",
              "    </tr>\n",
              "    <tr>\n",
              "      <th>4</th>\n",
              "      <td>1000002</td>\n",
              "      <td>P00285442</td>\n",
              "      <td>M</td>\n",
              "      <td>55+</td>\n",
              "      <td>16</td>\n",
              "      <td>C</td>\n",
              "      <td>4+</td>\n",
              "      <td>0</td>\n",
              "      <td>8</td>\n",
              "      <td>NaN</td>\n",
              "      <td>NaN</td>\n",
              "      <td>7969</td>\n",
              "    </tr>\n",
              "  </tbody>\n",
              "</table>\n",
              "</div>"
            ],
            "text/plain": [
              "   User_ID Product_ID Gender   Age  Occupation City_Category  \\\n",
              "0  1000001  P00069042      F  0-17          10             A   \n",
              "1  1000001  P00248942      F  0-17          10             A   \n",
              "2  1000001  P00087842      F  0-17          10             A   \n",
              "3  1000001  P00085442      F  0-17          10             A   \n",
              "4  1000002  P00285442      M   55+          16             C   \n",
              "\n",
              "  Stay_In_Current_City_Years  Marital_Status  Product_Category_1  \\\n",
              "0                          2               0                   3   \n",
              "1                          2               0                   1   \n",
              "2                          2               0                  12   \n",
              "3                          2               0                  12   \n",
              "4                         4+               0                   8   \n",
              "\n",
              "   Product_Category_2  Product_Category_3  Purchase  \n",
              "0                 NaN                 NaN      8370  \n",
              "1                 6.0                14.0     15200  \n",
              "2                 NaN                 NaN      1422  \n",
              "3                14.0                 NaN      1057  \n",
              "4                 NaN                 NaN      7969  "
            ]
          },
          "execution_count": 4,
          "metadata": {},
          "output_type": "execute_result"
        }
      ],
      "source": [
        "#definição do dataframe:\n",
        "df = pd.read_csv(\"train.csv\")\n",
        "df.head()"
      ]
    },
    {
      "cell_type": "code",
      "execution_count": null,
      "metadata": {
        "colab": {
          "base_uri": "https://localhost:8080/"
        },
        "id": "yKjpeWAwkLno",
        "outputId": "7f1c4b63-4c4d-4a82-e34f-24b4176c8084"
      },
      "outputs": [
        {
          "data": {
            "text/plain": [
              "(550068, 12)"
            ]
          },
          "execution_count": 5,
          "metadata": {},
          "output_type": "execute_result"
        }
      ],
      "source": [
        "#Dimensões:\n",
        "df.shape"
      ]
    },
    {
      "cell_type": "code",
      "execution_count": null,
      "metadata": {
        "colab": {
          "base_uri": "https://localhost:8080/"
        },
        "id": "K9GpnIDB1nmH",
        "outputId": "094cdc75-498f-4c10-8018-2cff0cbb1499"
      },
      "outputs": [
        {
          "data": {
            "text/plain": [
              "Index(['User_ID', 'Product_ID', 'Gender', 'Age', 'Occupation', 'City_Category',\n",
              "       'Stay_In_Current_City_Years', 'Marital_Status', 'Product_Category_1',\n",
              "       'Product_Category_2', 'Product_Category_3', 'Purchase'],\n",
              "      dtype='object')"
            ]
          },
          "execution_count": 6,
          "metadata": {},
          "output_type": "execute_result"
        }
      ],
      "source": [
        "#As informações armazenadas são divididas nas seguintes categorias:\n",
        "df.columns"
      ]
    },
    {
      "cell_type": "code",
      "execution_count": null,
      "metadata": {
        "colab": {
          "base_uri": "https://localhost:8080/"
        },
        "id": "sQNWbDRO18J8",
        "outputId": "4c940b11-03cf-424f-f23b-6bd306c1358c"
      },
      "outputs": [
        {
          "name": "stdout",
          "output_type": "stream",
          "text": [
            "<class 'pandas.core.frame.DataFrame'>\n",
            "RangeIndex: 550068 entries, 0 to 550067\n",
            "Data columns (total 12 columns):\n",
            " #   Column                      Non-Null Count   Dtype  \n",
            "---  ------                      --------------   -----  \n",
            " 0   User_ID                     550068 non-null  int64  \n",
            " 1   Product_ID                  550068 non-null  object \n",
            " 2   Gender                      550068 non-null  object \n",
            " 3   Age                         550068 non-null  object \n",
            " 4   Occupation                  550068 non-null  int64  \n",
            " 5   City_Category               550068 non-null  object \n",
            " 6   Stay_In_Current_City_Years  550068 non-null  object \n",
            " 7   Marital_Status              550068 non-null  int64  \n",
            " 8   Product_Category_1          550068 non-null  int64  \n",
            " 9   Product_Category_2          376430 non-null  float64\n",
            " 10  Product_Category_3          166821 non-null  float64\n",
            " 11  Purchase                    550068 non-null  int64  \n",
            "dtypes: float64(2), int64(5), object(5)\n",
            "memory usage: 50.4+ MB\n"
          ]
        }
      ],
      "source": [
        "df.info()"
      ]
    },
    {
      "cell_type": "code",
      "execution_count": null,
      "metadata": {
        "colab": {
          "base_uri": "https://localhost:8080/"
        },
        "id": "0jXDy14H21m4",
        "outputId": "480758f1-9d84-40d5-dfab-062175fbc628"
      },
      "outputs": [
        {
          "data": {
            "text/plain": [
              "User_ID                            0\n",
              "Product_ID                         0\n",
              "Gender                             0\n",
              "Age                                0\n",
              "Occupation                         0\n",
              "City_Category                      0\n",
              "Stay_In_Current_City_Years         0\n",
              "Marital_Status                     0\n",
              "Product_Category_1                 0\n",
              "Product_Category_2            173638\n",
              "Product_Category_3            383247\n",
              "Purchase                           0\n",
              "dtype: int64"
            ]
          },
          "execution_count": 8,
          "metadata": {},
          "output_type": "execute_result"
        }
      ],
      "source": [
        "# observação dos valores nulos por coluna\n",
        "df.isnull().sum()"
      ]
    },
    {
      "cell_type": "code",
      "execution_count": null,
      "metadata": {
        "colab": {
          "base_uri": "https://localhost:8080/"
        },
        "id": "lSbyks-ndNok",
        "outputId": "7da37989-faf7-45c4-bda7-1dd8c07577e1"
      },
      "outputs": [
        {
          "data": {
            "text/plain": [
              "User_ID                       0.000000\n",
              "Product_ID                    0.000000\n",
              "Gender                        0.000000\n",
              "Age                           0.000000\n",
              "Occupation                    0.000000\n",
              "City_Category                 0.000000\n",
              "Stay_In_Current_City_Years    0.000000\n",
              "Marital_Status                0.000000\n",
              "Product_Category_1            0.000000\n",
              "Purchase                      0.000000\n",
              "Product_Category_2            0.315666\n",
              "Product_Category_3            0.696727\n",
              "dtype: float64"
            ]
          },
          "execution_count": 9,
          "metadata": {},
          "output_type": "execute_result"
        }
      ],
      "source": [
        "(df.isnull().sum()/df.shape[0]).sort_values()"
      ]
    },
    {
      "cell_type": "code",
      "execution_count": null,
      "metadata": {
        "colab": {
          "base_uri": "https://localhost:8080/",
          "height": 298
        },
        "id": "hFAgjxYB3Sqw",
        "outputId": "29c75ba4-2a7a-4ce5-cb37-2a3e47aea4f3"
      },
      "outputs": [
        {
          "data": {
            "text/plain": [
              "<AxesSubplot:title={'center':'Valores nulos por coluna'}>"
            ]
          },
          "execution_count": 10,
          "metadata": {},
          "output_type": "execute_result"
        },
        {
          "data": {
            "image/png": "[encoded data removed]",
            "text/plain": [
              "<Figure size 1080x504 with 1 Axes>"
            ]
          },
          "metadata": {
            "needs_background": "light"
          },
          "output_type": "display_data"
        }
      ],
      "source": [
        "(df.isnull().sum()/df.shape[0]).sort_values(ascending = True).plot(kind = 'barh',\n",
        "                                                                   title = 'Valores nulos por coluna',\n",
        "                                                                   ylabel = '', figsize=(15,7))"
      ]
    },
    {
      "cell_type": "markdown",
      "metadata": {
        "id": "4jzz-YumIM7T"
      },
      "source": [
        "**Observando os dados:**"
      ]
    },
    {
      "cell_type": "code",
      "execution_count": null,
      "metadata": {
        "colab": {
          "base_uri": "https://localhost:8080/"
        },
        "id": "-1DSx2Hw3hjR",
        "outputId": "7fee73ee-5d2e-4e0e-e087-200636fd7e61"
      },
      "outputs": [
        {
          "data": {
            "text/plain": [
              "array(['F', 'M'], dtype=object)"
            ]
          },
          "execution_count": 11,
          "metadata": {},
          "output_type": "execute_result"
        }
      ],
      "source": [
        "#Gêneros presentes no dataset:\n",
        "df[\"Gender\"].unique()"
      ]
    },
    {
      "cell_type": "code",
      "execution_count": null,
      "metadata": {
        "colab": {
          "base_uri": "https://localhost:8080/"
        },
        "id": "KcMtH_SZ4XEH",
        "outputId": "0900ec0a-7636-46e1-c5c6-9d000fc0b88e"
      },
      "outputs": [
        {
          "data": {
            "text/plain": [
              "array(['0-17', '55+', '26-35', '46-50', '51-55', '36-45', '18-25'],\n",
              "      dtype=object)"
            ]
          },
          "execution_count": 12,
          "metadata": {},
          "output_type": "execute_result"
        }
      ],
      "source": [
        "df['Age'].unique()"
      ]
    },
    {
      "cell_type": "code",
      "execution_count": null,
      "metadata": {
        "colab": {
          "base_uri": "https://localhost:8080/"
        },
        "id": "ljRYM0cs4RwB",
        "outputId": "efc7e48b-f710-4bf5-da7c-053e9e260fad"
      },
      "outputs": [
        {
          "data": {
            "text/plain": [
              "array([10, 16, 15,  7, 20,  9,  1, 12, 17,  0,  3,  4, 11,  8, 19,  2, 18,\n",
              "        5, 14, 13,  6], dtype=int64)"
            ]
          },
          "execution_count": 13,
          "metadata": {},
          "output_type": "execute_result"
        }
      ],
      "source": [
        "df['Occupation'].unique()"
      ]
    },
    {
      "cell_type": "code",
      "execution_count": null,
      "metadata": {
        "colab": {
          "base_uri": "https://localhost:8080/"
        },
        "id": "N9Ed6G6Rx9sv",
        "outputId": "682a585d-1fc5-46b9-e807-6419b3bd28c1"
      },
      "outputs": [
        {
          "data": {
            "text/plain": [
              "array(['A', 'C', 'B'], dtype=object)"
            ]
          },
          "execution_count": 14,
          "metadata": {},
          "output_type": "execute_result"
        }
      ],
      "source": [
        "df['City_Category'].unique()"
      ]
    },
    {
      "cell_type": "code",
      "execution_count": null,
      "metadata": {
        "colab": {
          "base_uri": "https://localhost:8080/"
        },
        "id": "qFN0-7_QdNb2",
        "outputId": "d032d516-19aa-4f94-ad83-2bf0b547075b"
      },
      "outputs": [
        {
          "data": {
            "text/plain": [
              "array(['2', '4+', '3', '1', '0'], dtype=object)"
            ]
          },
          "execution_count": 15,
          "metadata": {},
          "output_type": "execute_result"
        }
      ],
      "source": [
        "df['Stay_In_Current_City_Years'].unique()"
      ]
    },
    {
      "cell_type": "code",
      "execution_count": null,
      "metadata": {
        "colab": {
          "base_uri": "https://localhost:8080/"
        },
        "id": "1XEn0lb6dP0g",
        "outputId": "02fabcd6-ad68-434c-c7f1-cf7b3dd081b7"
      },
      "outputs": [
        {
          "data": {
            "text/plain": [
              "array([0, 1], dtype=int64)"
            ]
          },
          "execution_count": 16,
          "metadata": {},
          "output_type": "execute_result"
        }
      ],
      "source": [
        "df['Marital_Status'].unique()"
      ]
    },
    {
      "cell_type": "code",
      "execution_count": null,
      "metadata": {
        "colab": {
          "base_uri": "https://localhost:8080/"
        },
        "id": "Y2ja1qRLy0Mb",
        "outputId": "87137e83-8f96-45db-db1c-5a8a359ffbe2"
      },
      "outputs": [
        {
          "data": {
            "text/plain": [
              "9263.97"
            ]
          },
          "execution_count": 17,
          "metadata": {},
          "output_type": "execute_result"
        }
      ],
      "source": [
        "Ticket_med = round((df[\"Purchase\"].sum()/df.shape[0]),2)\n",
        "Ticket_med"
      ]
    },
    {
      "cell_type": "markdown",
      "metadata": {
        "id": "DGENH-c9GVdd"
      },
      "source": [
        "# **2. Processamento dos dados**"
      ]
    },
    {
      "cell_type": "code",
      "execution_count": null,
      "metadata": {
        "id": "Ih1zxPchCxbB"
      },
      "outputs": [],
      "source": [
        "# As únicas colunas que apresentam valores nulos são \"Product_Category_2\" e \"Product_Category_3\" \n",
        "# Essas colunas possuem valores mascarados, além de já possuir uma coluna \"Product_Category_1\" sem valores nulos \n",
        "# Foi decidido remover-las por não serem necessárias para as análises"
      ]
    },
    {
      "cell_type": "code",
      "execution_count": null,
      "metadata": {
        "colab": {
          "base_uri": "https://localhost:8080/"
        },
        "id": "CqVSCwGMDJTB",
        "outputId": "f9446761-d3ef-4dde-c246-c4a3f81ecfe0"
      },
      "outputs": [
        {
          "data": {
            "text/html": [
              "<div>\n",
              "<style scoped>\n",
              "    .dataframe tbody tr th:only-of-type {\n",
              "        vertical-align: middle;\n",
              "    }\n",
              "\n",
              "    .dataframe tbody tr th {\n",
              "        vertical-align: top;\n",
              "    }\n",
              "\n",
              "    .dataframe thead th {\n",
              "        text-align: right;\n",
              "    }\n",
              "</style>\n",
              "<table border=\"1\" class=\"dataframe\">\n",
              "  <thead>\n",
              "    <tr style=\"text-align: right;\">\n",
              "      <th></th>\n",
              "      <th>User_ID</th>\n",
              "      <th>Product_ID</th>\n",
              "      <th>Gender</th>\n",
              "      <th>Age</th>\n",
              "      <th>Occupation</th>\n",
              "      <th>City_Category</th>\n",
              "      <th>Stay_In_Current_City_Years</th>\n",
              "      <th>Marital_Status</th>\n",
              "      <th>Product_Category_1</th>\n",
              "      <th>Purchase</th>\n",
              "    </tr>\n",
              "  </thead>\n",
              "  <tbody>\n",
              "    <tr>\n",
              "      <th>0</th>\n",
              "      <td>1000001</td>\n",
              "      <td>P00069042</td>\n",
              "      <td>F</td>\n",
              "      <td>0-17</td>\n",
              "      <td>10</td>\n",
              "      <td>A</td>\n",
              "      <td>2</td>\n",
              "      <td>0</td>\n",
              "      <td>3</td>\n",
              "      <td>8370</td>\n",
              "    </tr>\n",
              "    <tr>\n",
              "      <th>1</th>\n",
              "      <td>1000001</td>\n",
              "      <td>P00248942</td>\n",
              "      <td>F</td>\n",
              "      <td>0-17</td>\n",
              "      <td>10</td>\n",
              "      <td>A</td>\n",
              "      <td>2</td>\n",
              "      <td>0</td>\n",
              "      <td>1</td>\n",
              "      <td>15200</td>\n",
              "    </tr>\n",
              "    <tr>\n",
              "      <th>2</th>\n",
              "      <td>1000001</td>\n",
              "      <td>P00087842</td>\n",
              "      <td>F</td>\n",
              "      <td>0-17</td>\n",
              "      <td>10</td>\n",
              "      <td>A</td>\n",
              "      <td>2</td>\n",
              "      <td>0</td>\n",
              "      <td>12</td>\n",
              "      <td>1422</td>\n",
              "    </tr>\n",
              "    <tr>\n",
              "      <th>3</th>\n",
              "      <td>1000001</td>\n",
              "      <td>P00085442</td>\n",
              "      <td>F</td>\n",
              "      <td>0-17</td>\n",
              "      <td>10</td>\n",
              "      <td>A</td>\n",
              "      <td>2</td>\n",
              "      <td>0</td>\n",
              "      <td>12</td>\n",
              "      <td>1057</td>\n",
              "    </tr>\n",
              "    <tr>\n",
              "      <th>4</th>\n",
              "      <td>1000002</td>\n",
              "      <td>P00285442</td>\n",
              "      <td>M</td>\n",
              "      <td>55+</td>\n",
              "      <td>16</td>\n",
              "      <td>C</td>\n",
              "      <td>4+</td>\n",
              "      <td>0</td>\n",
              "      <td>8</td>\n",
              "      <td>7969</td>\n",
              "    </tr>\n",
              "    <tr>\n",
              "      <th>...</th>\n",
              "      <td>...</td>\n",
              "      <td>...</td>\n",
              "      <td>...</td>\n",
              "      <td>...</td>\n",
              "      <td>...</td>\n",
              "      <td>...</td>\n",
              "      <td>...</td>\n",
              "      <td>...</td>\n",
              "      <td>...</td>\n",
              "      <td>...</td>\n",
              "    </tr>\n",
              "    <tr>\n",
              "      <th>550063</th>\n",
              "      <td>1006033</td>\n",
              "      <td>P00372445</td>\n",
              "      <td>M</td>\n",
              "      <td>51-55</td>\n",
              "      <td>13</td>\n",
              "      <td>B</td>\n",
              "      <td>1</td>\n",
              "      <td>1</td>\n",
              "      <td>20</td>\n",
              "      <td>368</td>\n",
              "    </tr>\n",
              "    <tr>\n",
              "      <th>550064</th>\n",
              "      <td>1006035</td>\n",
              "      <td>P00375436</td>\n",
              "      <td>F</td>\n",
              "      <td>26-35</td>\n",
              "      <td>1</td>\n",
              "      <td>C</td>\n",
              "      <td>3</td>\n",
              "      <td>0</td>\n",
              "      <td>20</td>\n",
              "      <td>371</td>\n",
              "    </tr>\n",
              "    <tr>\n",
              "      <th>550065</th>\n",
              "      <td>1006036</td>\n",
              "      <td>P00375436</td>\n",
              "      <td>F</td>\n",
              "      <td>26-35</td>\n",
              "      <td>15</td>\n",
              "      <td>B</td>\n",
              "      <td>4+</td>\n",
              "      <td>1</td>\n",
              "      <td>20</td>\n",
              "      <td>137</td>\n",
              "    </tr>\n",
              "    <tr>\n",
              "      <th>550066</th>\n",
              "      <td>1006038</td>\n",
              "      <td>P00375436</td>\n",
              "      <td>F</td>\n",
              "      <td>55+</td>\n",
              "      <td>1</td>\n",
              "      <td>C</td>\n",
              "      <td>2</td>\n",
              "      <td>0</td>\n",
              "      <td>20</td>\n",
              "      <td>365</td>\n",
              "    </tr>\n",
              "    <tr>\n",
              "      <th>550067</th>\n",
              "      <td>1006039</td>\n",
              "      <td>P00371644</td>\n",
              "      <td>F</td>\n",
              "      <td>46-50</td>\n",
              "      <td>0</td>\n",
              "      <td>B</td>\n",
              "      <td>4+</td>\n",
              "      <td>1</td>\n",
              "      <td>20</td>\n",
              "      <td>490</td>\n",
              "    </tr>\n",
              "  </tbody>\n",
              "</table>\n",
              "<p>550068 rows × 10 columns</p>\n",
              "</div>"
            ],
            "text/plain": [
              "        User_ID Product_ID Gender    Age  Occupation City_Category  \\\n",
              "0       1000001  P00069042      F   0-17          10             A   \n",
              "1       1000001  P00248942      F   0-17          10             A   \n",
              "2       1000001  P00087842      F   0-17          10             A   \n",
              "3       1000001  P00085442      F   0-17          10             A   \n",
              "4       1000002  P00285442      M    55+          16             C   \n",
              "...         ...        ...    ...    ...         ...           ...   \n",
              "550063  1006033  P00372445      M  51-55          13             B   \n",
              "550064  1006035  P00375436      F  26-35           1             C   \n",
              "550065  1006036  P00375436      F  26-35          15             B   \n",
              "550066  1006038  P00375436      F    55+           1             C   \n",
              "550067  1006039  P00371644      F  46-50           0             B   \n",
              "\n",
              "       Stay_In_Current_City_Years  Marital_Status  Product_Category_1  \\\n",
              "0                               2               0                   3   \n",
              "1                               2               0                   1   \n",
              "2                               2               0                  12   \n",
              "3                               2               0                  12   \n",
              "4                              4+               0                   8   \n",
              "...                           ...             ...                 ...   \n",
              "550063                          1               1                  20   \n",
              "550064                          3               0                  20   \n",
              "550065                         4+               1                  20   \n",
              "550066                          2               0                  20   \n",
              "550067                         4+               1                  20   \n",
              "\n",
              "        Purchase  \n",
              "0           8370  \n",
              "1          15200  \n",
              "2           1422  \n",
              "3           1057  \n",
              "4           7969  \n",
              "...          ...  \n",
              "550063       368  \n",
              "550064       371  \n",
              "550065       137  \n",
              "550066       365  \n",
              "550067       490  \n",
              "\n",
              "[550068 rows x 10 columns]"
            ]
          },
          "execution_count": 19,
          "metadata": {},
          "output_type": "execute_result"
        }
      ],
      "source": [
        "df = df.drop([\"Product_Category_2\",\"Product_Category_3\"], axis= 1)\n",
        "df"
      ]
    },
    {
      "cell_type": "code",
      "execution_count": null,
      "metadata": {
        "colab": {
          "base_uri": "https://localhost:8080/"
        },
        "id": "TAbRFSOyD2Nx",
        "outputId": "f0db5caa-e656-443a-ce5f-6d41d5975658"
      },
      "outputs": [
        {
          "data": {
            "text/plain": [
              "<AxesSubplot:>"
            ]
          },
          "execution_count": 62,
          "metadata": {},
          "output_type": "execute_result"
        },
        {
          "data": {
            "image/png": "[encoded data removed]",
            "text/plain": [
              "<Figure size 1080x504 with 1 Axes>"
            ]
          },
          "metadata": {
            "needs_background": "light"
          },
          "output_type": "display_data"
        }
      ],
      "source": [
        "# Vamos analisar como os outliers se comportam\n",
        "df.Purchase.plot(kind = \"box\", figsize=(15,7))"
      ]
    },
    {
      "cell_type": "code",
      "execution_count": null,
      "metadata": {
        "id": "AI7r9AMSD7Bh"
      },
      "outputs": [],
      "source": [
        "# O dataset apresenta outliers apenas na parte superior\n",
        "# Vamos utilizar o modelo de cálculo com base nos quartils"
      ]
    },
    {
      "cell_type": "code",
      "execution_count": null,
      "metadata": {
        "colab": {
          "base_uri": "https://localhost:8080/"
        },
        "id": "p5dfurYuD9NJ",
        "outputId": "69cfedac-f172-4653-de92-78d67e099c73"
      },
      "outputs": [
        {
          "data": {
            "text/plain": [
              "21400.5"
            ]
          },
          "execution_count": 22,
          "metadata": {},
          "output_type": "execute_result"
        }
      ],
      "source": [
        "q1 = df.Purchase.quantile(0.25)\n",
        "q3 = df.Purchase.quantile(0.75)\n",
        "iqr = q3-q1\n",
        "out_sup = q3+1.5*iqr\n",
        "out_sup"
      ]
    },
    {
      "cell_type": "code",
      "execution_count": null,
      "metadata": {
        "id": "_CJHTMsREAPR"
      },
      "outputs": [],
      "source": [
        "# Valores a partir de 21400.5 são considerados outliers"
      ]
    },
    {
      "cell_type": "code",
      "execution_count": null,
      "metadata": {
        "colab": {
          "base_uri": "https://localhost:8080/"
        },
        "id": "PaktAILOEFSZ",
        "outputId": "90b265be-457d-4963-a08a-d32d22acff79"
      },
      "outputs": [
        {
          "data": {
            "text/plain": [
              "(2677, 10)"
            ]
          },
          "execution_count": 24,
          "metadata": {},
          "output_type": "execute_result"
        }
      ],
      "source": [
        "outliers = df[df['Purchase'] > out_sup]\n",
        "outliers.shape"
      ]
    },
    {
      "cell_type": "code",
      "execution_count": null,
      "metadata": {
        "colab": {
          "base_uri": "https://localhost:8080/"
        },
        "id": "cq3WtJ3TEIlJ",
        "outputId": "a1ae31f9-bd65-43a3-b5a1-fb4468ee0fac"
      },
      "outputs": [
        {
          "data": {
            "text/plain": [
              "count     2677.000000\n",
              "mean     23238.392230\n",
              "std        701.671127\n",
              "min      21401.000000\n",
              "25%      23154.000000\n",
              "50%      23418.000000\n",
              "75%      23684.000000\n",
              "max      23961.000000\n",
              "Name: Purchase, dtype: float64"
            ]
          },
          "execution_count": 25,
          "metadata": {},
          "output_type": "execute_result"
        }
      ],
      "source": [
        "outliers.Purchase.describe()"
      ]
    },
    {
      "cell_type": "code",
      "execution_count": null,
      "metadata": {
        "id": "yaWnGI-XELg6"
      },
      "outputs": [],
      "source": [
        "# Temos 2677 valores como outliers"
      ]
    },
    {
      "cell_type": "code",
      "execution_count": null,
      "metadata": {
        "colab": {
          "base_uri": "https://localhost:8080/"
        },
        "id": "Q4lSkwW5EOrB",
        "outputId": "16a0bdd1-6d86-4bb9-d708-a8f8a2230941"
      },
      "outputs": [
        {
          "data": {
            "text/plain": [
              "0.4866671029763593"
            ]
          },
          "execution_count": 27,
          "metadata": {},
          "output_type": "execute_result"
        }
      ],
      "source": [
        "outliers_porcentagem = (outliers.Purchase.count()/df.Purchase.count())*100\n",
        "outliers_porcentagem"
      ]
    },
    {
      "cell_type": "code",
      "execution_count": null,
      "metadata": {
        "id": "Wx1ubSNPEQgJ"
      },
      "outputs": [],
      "source": [
        "# Os outliers representam menos de 0.5% do dataset"
      ]
    },
    {
      "cell_type": "code",
      "execution_count": null,
      "metadata": {
        "colab": {
          "base_uri": "https://localhost:8080/"
        },
        "id": "zv0OiQx3ESex",
        "outputId": "e8f95dc8-f1f2-4076-de7d-8b9ab75613b9"
      },
      "outputs": [
        {
          "data": {
            "text/plain": [
              "count    550068.000000\n",
              "mean       9263.968713\n",
              "std        5023.065394\n",
              "min          12.000000\n",
              "25%        5823.000000\n",
              "50%        8047.000000\n",
              "75%       12054.000000\n",
              "max       23961.000000\n",
              "Name: Purchase, dtype: float64"
            ]
          },
          "execution_count": 29,
          "metadata": {},
          "output_type": "execute_result"
        }
      ],
      "source": [
        "df.Purchase.describe()"
      ]
    },
    {
      "cell_type": "code",
      "execution_count": null,
      "metadata": {
        "colab": {
          "base_uri": "https://localhost:8080/"
        },
        "id": "e_yVDapFEWZJ",
        "outputId": "f36b0f1c-6409-4ec3-f2f6-66275460d06e"
      },
      "outputs": [
        {
          "data": {
            "text/plain": [
              "count    547391.000000\n",
              "mean       9195.627195\n",
              "std        4938.872953\n",
              "min          12.000000\n",
              "25%        5721.000000\n",
              "50%        8038.000000\n",
              "75%       12019.000000\n",
              "max       21399.000000\n",
              "Name: Purchase, dtype: float64"
            ]
          },
          "execution_count": 30,
          "metadata": {},
          "output_type": "execute_result"
        }
      ],
      "source": [
        "not_outliers = df[df['Purchase'] < out_sup]\n",
        "not_outliers.Purchase.describe()"
      ]
    },
    {
      "cell_type": "code",
      "execution_count": null,
      "metadata": {
        "id": "9QhL2pNZEYaj"
      },
      "outputs": [],
      "source": [
        "# A média e o desvio padrão do dataset não possui diferenças tão grandes comparadas aos valores filtrados sem os outliers"
      ]
    },
    {
      "cell_type": "code",
      "execution_count": null,
      "metadata": {
        "colab": {
          "base_uri": "https://localhost:8080/"
        },
        "id": "wZk6d03GEZBg",
        "outputId": "7753a34d-204b-4bd6-9103-41d94b5d3dea"
      },
      "outputs": [
        {
          "data": {
            "text/plain": [
              "2"
            ]
          },
          "execution_count": 32,
          "metadata": {},
          "output_type": "execute_result"
        }
      ],
      "source": [
        "outliers.Purchase.min() - not_outliers.Purchase.max()"
      ]
    },
    {
      "cell_type": "code",
      "execution_count": null,
      "metadata": {
        "colab": {
          "base_uri": "https://localhost:8080/"
        },
        "id": "YCdb9EzPEbZ4",
        "outputId": "02e15d5a-917d-4d35-de10-4ff04201dbdc"
      },
      "outputs": [
        {
          "data": {
            "text/plain": [
              "2562"
            ]
          },
          "execution_count": 33,
          "metadata": {},
          "output_type": "execute_result"
        }
      ],
      "source": [
        "outliers.Purchase.max() - not_outliers.Purchase.max()"
      ]
    },
    {
      "cell_type": "code",
      "execution_count": null,
      "metadata": {
        "id": "kWVQn-DQEdoY"
      },
      "outputs": [],
      "source": [
        "# os valores máximo e mínimo dos ouliers não apresentam valores tão discrepantes do valor máximo dos valores considerados não outliers"
      ]
    },
    {
      "cell_type": "code",
      "execution_count": null,
      "metadata": {
        "id": "8kpwQ4sNEevI"
      },
      "outputs": [],
      "source": [
        "# A partir dessas informações, foi decidido que os outliers não possuem grande influência na apuração dos dados, por isso, eles não serão retirados da análise."
      ]
    },
    {
      "cell_type": "markdown",
      "metadata": {
        "id": "Vmi2_XEO2BUb"
      },
      "source": [
        "## Análise das colunas do dataset:"
      ]
    },
    {
      "cell_type": "markdown",
      "metadata": {
        "id": "L_2V9fqL2BUb"
      },
      "source": [
        "#### USER_ID"
      ]
    },
    {
      "cell_type": "code",
      "execution_count": null,
      "metadata": {
        "id": "oIjMzP2a2BUb",
        "outputId": "3cdf1e96-dd67-4790-ede1-961df719ed55"
      },
      "outputs": [
        {
          "data": {
            "text/html": [
              "<div>\n",
              "<style scoped>\n",
              "    .dataframe tbody tr th:only-of-type {\n",
              "        vertical-align: middle;\n",
              "    }\n",
              "\n",
              "    .dataframe tbody tr th {\n",
              "        vertical-align: top;\n",
              "    }\n",
              "\n",
              "    .dataframe thead th {\n",
              "        text-align: right;\n",
              "    }\n",
              "</style>\n",
              "<table border=\"1\" class=\"dataframe\">\n",
              "  <thead>\n",
              "    <tr style=\"text-align: right;\">\n",
              "      <th></th>\n",
              "      <th>User_ID</th>\n",
              "      <th>Gender</th>\n",
              "      <th>Age</th>\n",
              "      <th>Occupation</th>\n",
              "      <th>City_Category</th>\n",
              "      <th>Stay_In_Current_City_Years</th>\n",
              "      <th>Marital_Status</th>\n",
              "    </tr>\n",
              "  </thead>\n",
              "  <tbody>\n",
              "    <tr>\n",
              "      <th>39119</th>\n",
              "      <td>1006035</td>\n",
              "      <td>F</td>\n",
              "      <td>26-35</td>\n",
              "      <td>1</td>\n",
              "      <td>C</td>\n",
              "      <td>3</td>\n",
              "      <td>0</td>\n",
              "    </tr>\n",
              "  </tbody>\n",
              "</table>\n",
              "</div>"
            ],
            "text/plain": [
              "       User_ID Gender    Age  Occupation City_Category  \\\n",
              "39119  1006035      F  26-35           1             C   \n",
              "\n",
              "      Stay_In_Current_City_Years  Marital_Status  \n",
              "39119                          3               0  "
            ]
          },
          "execution_count": 36,
          "metadata": {},
          "output_type": "execute_result"
        }
      ],
      "source": [
        "# Quando pegamos aleatoriamente um usuário específico podemos perceber que temos congruência de valores de cadastro.\n",
        "df[df['User_ID'] == 1006035][['User_ID', 'Gender', 'Age', 'Occupation', 'City_Category', 'Stay_In_Current_City_Years', 'Marital_Status']].drop_duplicates()"
      ]
    },
    {
      "cell_type": "code",
      "execution_count": null,
      "metadata": {
        "id": "TWbhlQ-C2BUb",
        "outputId": "c0b37bb8-fd68-48d7-c727-e3f9d6c5def0"
      },
      "outputs": [
        {
          "data": {
            "text/plain": [
              "5891"
            ]
          },
          "execution_count": 37,
          "metadata": {},
          "output_type": "execute_result"
        }
      ],
      "source": [
        "# Quantidade de usuários diferentes no dataset. O que significa que muitos deles compraram mais de uma vez dentro desse período de análise.\n",
        "df.User_ID.drop_duplicates().count()"
      ]
    },
    {
      "cell_type": "code",
      "execution_count": null,
      "metadata": {
        "id": "eAEZWj5x2BUc",
        "outputId": "3cde2415-bcaf-49eb-fd55-f658b76aa90d"
      },
      "outputs": [
        {
          "data": {
            "text/plain": [
              "1001680    1026\n",
              "1004277     979\n",
              "1001941     898\n",
              "1001181     862\n",
              "1000889     823\n",
              "           ... \n",
              "1002690       7\n",
              "1002111       7\n",
              "1005810       7\n",
              "1004991       7\n",
              "1000708       6\n",
              "Name: User_ID, Length: 5891, dtype: int64"
            ]
          },
          "execution_count": 38,
          "metadata": {},
          "output_type": "execute_result"
        }
      ],
      "source": [
        "# Esse é o dado mais exato da quantidade de vezes em que cada usuário efetuou uma compra.\n",
        "df.User_ID.value_counts()"
      ]
    },
    {
      "cell_type": "code",
      "execution_count": null,
      "metadata": {
        "id": "OWvoVupk2BUc",
        "outputId": "e9463cbb-b6ad-4b4f-d73e-87306e6eb692"
      },
      "outputs": [
        {
          "data": {
            "text/plain": [
              "933.742997793244"
            ]
          },
          "execution_count": 39,
          "metadata": {},
          "output_type": "execute_result"
        }
      ],
      "source": [
        "# Quantidade média de compras por usuário.\n",
        "df.size / df.User_ID.drop_duplicates().count()"
      ]
    },
    {
      "cell_type": "code",
      "execution_count": null,
      "metadata": {
        "id": "ZmA2_43N2BUc",
        "outputId": "cf704b83-c23d-4cf2-eb1c-1962bfca4fef"
      },
      "outputs": [
        {
          "data": {
            "text/plain": [
              "865016.5917501273"
            ]
          },
          "execution_count": 40,
          "metadata": {},
          "output_type": "execute_result"
        }
      ],
      "source": [
        "# Gasto médio por usuário\n",
        "df.Purchase.sum() / df.User_ID.drop_duplicates().count()"
      ]
    },
    {
      "cell_type": "code",
      "execution_count": null,
      "metadata": {
        "id": "95Qium5p2BUc",
        "outputId": "6e35eca0-ee53-49b3-e7c2-5e4ca306a426"
      },
      "outputs": [
        {
          "data": {
            "text/plain": [
              "<AxesSubplot:>"
            ]
          },
          "execution_count": 41,
          "metadata": {},
          "output_type": "execute_result"
        },
        {
          "data": {
            "image/png": "[encoded data removed]",
            "text/plain": [
              "<Figure size 1080x504 with 1 Axes>"
            ]
          },
          "metadata": {
            "needs_background": "light"
          },
          "output_type": "display_data"
        }
      ],
      "source": [
        "# Gráfico de frequência dos 10 primeiros usuários que mais compraram nesse período.\n",
        "df.User_ID.value_counts().head(10).plot(kind = 'bar', figsize = (15, 7))"
      ]
    },
    {
      "cell_type": "markdown",
      "metadata": {
        "id": "7B9t4u8g2BUc"
      },
      "source": [
        "#### PRODUCT_ID"
      ]
    },
    {
      "cell_type": "code",
      "execution_count": null,
      "metadata": {
        "id": "0B7H95eb2BUc",
        "outputId": "bdabb87d-b972-42b3-92af-afcfaad2d9d3"
      },
      "outputs": [
        {
          "data": {
            "text/plain": [
              "3631"
            ]
          },
          "execution_count": 42,
          "metadata": {},
          "output_type": "execute_result"
        }
      ],
      "source": [
        "# Quantidade de produtos diferentes no dataset. Significa que cada produto pode ter sido vendido mais de uma vez.\n",
        "qtd_produtos = df.Product_ID.drop_duplicates().count()\n",
        "qtd_produtos"
      ]
    },
    {
      "cell_type": "code",
      "execution_count": null,
      "metadata": {
        "id": "wzF6BPpL2BUd",
        "outputId": "f92a4d7c-89c4-4901-ffe3-efae039bb6e7"
      },
      "outputs": [
        {
          "data": {
            "text/plain": [
              "P00265242    1880\n",
              "P00025442    1615\n",
              "P00110742    1612\n",
              "P00112142    1562\n",
              "P00057642    1470\n",
              "             ... \n",
              "P00314842       1\n",
              "P00298842       1\n",
              "P00231642       1\n",
              "P00204442       1\n",
              "P00066342       1\n",
              "Name: Product_ID, Length: 3631, dtype: int64"
            ]
          },
          "execution_count": 43,
          "metadata": {},
          "output_type": "execute_result"
        }
      ],
      "source": [
        "# Aqui conseguimos ver a quantidade de vezes em que cada produto foi comprado.\n",
        "df.Product_ID.value_counts()"
      ]
    },
    {
      "cell_type": "code",
      "execution_count": null,
      "metadata": {
        "id": "dzRefs8x2BUd",
        "outputId": "48b477a9-4119-41a9-b8f5-4731e552a0f8"
      },
      "outputs": [
        {
          "data": {
            "text/html": [
              "<div>\n",
              "<style scoped>\n",
              "    .dataframe tbody tr th:only-of-type {\n",
              "        vertical-align: middle;\n",
              "    }\n",
              "\n",
              "    .dataframe tbody tr th {\n",
              "        vertical-align: top;\n",
              "    }\n",
              "\n",
              "    .dataframe thead th {\n",
              "        text-align: right;\n",
              "    }\n",
              "</style>\n",
              "<table border=\"1\" class=\"dataframe\">\n",
              "  <thead>\n",
              "    <tr style=\"text-align: right;\">\n",
              "      <th></th>\n",
              "      <th>Product_ID</th>\n",
              "      <th>Product_Category_1</th>\n",
              "      <th>Purchase</th>\n",
              "    </tr>\n",
              "  </thead>\n",
              "  <tbody>\n",
              "    <tr>\n",
              "      <th>0</th>\n",
              "      <td>P00069042</td>\n",
              "      <td>3</td>\n",
              "      <td>8370</td>\n",
              "    </tr>\n",
              "    <tr>\n",
              "      <th>825</th>\n",
              "      <td>P00069042</td>\n",
              "      <td>3</td>\n",
              "      <td>10715</td>\n",
              "    </tr>\n",
              "    <tr>\n",
              "      <th>3314</th>\n",
              "      <td>P00069042</td>\n",
              "      <td>3</td>\n",
              "      <td>11037</td>\n",
              "    </tr>\n",
              "    <tr>\n",
              "      <th>4224</th>\n",
              "      <td>P00069042</td>\n",
              "      <td>3</td>\n",
              "      <td>8009</td>\n",
              "    </tr>\n",
              "    <tr>\n",
              "      <th>5864</th>\n",
              "      <td>P00069042</td>\n",
              "      <td>3</td>\n",
              "      <td>13346</td>\n",
              "    </tr>\n",
              "    <tr>\n",
              "      <th>...</th>\n",
              "      <td>...</td>\n",
              "      <td>...</td>\n",
              "      <td>...</td>\n",
              "    </tr>\n",
              "    <tr>\n",
              "      <th>539484</th>\n",
              "      <td>P00069042</td>\n",
              "      <td>3</td>\n",
              "      <td>13483</td>\n",
              "    </tr>\n",
              "    <tr>\n",
              "      <th>540849</th>\n",
              "      <td>P00069042</td>\n",
              "      <td>3</td>\n",
              "      <td>10895</td>\n",
              "    </tr>\n",
              "    <tr>\n",
              "      <th>543419</th>\n",
              "      <td>P00069042</td>\n",
              "      <td>3</td>\n",
              "      <td>11047</td>\n",
              "    </tr>\n",
              "    <tr>\n",
              "      <th>544454</th>\n",
              "      <td>P00069042</td>\n",
              "      <td>3</td>\n",
              "      <td>13557</td>\n",
              "    </tr>\n",
              "    <tr>\n",
              "      <th>545219</th>\n",
              "      <td>P00069042</td>\n",
              "      <td>3</td>\n",
              "      <td>13241</td>\n",
              "    </tr>\n",
              "  </tbody>\n",
              "</table>\n",
              "<p>227 rows × 3 columns</p>\n",
              "</div>"
            ],
            "text/plain": [
              "       Product_ID  Product_Category_1  Purchase\n",
              "0       P00069042                   3      8370\n",
              "825     P00069042                   3     10715\n",
              "3314    P00069042                   3     11037\n",
              "4224    P00069042                   3      8009\n",
              "5864    P00069042                   3     13346\n",
              "...           ...                 ...       ...\n",
              "539484  P00069042                   3     13483\n",
              "540849  P00069042                   3     10895\n",
              "543419  P00069042                   3     11047\n",
              "544454  P00069042                   3     13557\n",
              "545219  P00069042                   3     13241\n",
              "\n",
              "[227 rows x 3 columns]"
            ]
          },
          "execution_count": 44,
          "metadata": {},
          "output_type": "execute_result"
        }
      ],
      "source": [
        "# Quando pegamos um produto específico para analisar, podemos ver que um mesmo produto possui vários valores de compra diferentes. \n",
        "# O que demonstra uma inconsistencia. \n",
        "# Porém, não há incongruência de cadastro de produto, uma vez que o mesmo produto possui sempre a mesma categoria.\n",
        "df[df['Product_ID'] == 'P00069042'][['Product_ID', 'Product_Category_1', 'Purchase']]"
      ]
    },
    {
      "cell_type": "code",
      "execution_count": null,
      "metadata": {
        "id": "LRARKaAz2BUd",
        "outputId": "3a3f12d8-56b4-4cf4-d5b0-5d1084f5dede"
      },
      "outputs": [
        {
          "data": {
            "text/plain": [
              "<AxesSubplot:xlabel='Product_ID'>"
            ]
          },
          "execution_count": 45,
          "metadata": {},
          "output_type": "execute_result"
        },
        {
          "data": {
            "image/png": "[encoded data removed]",
            "text/plain": [
              "<Figure size 1080x504 with 1 Axes>"
            ]
          },
          "metadata": {
            "needs_background": "light"
          },
          "output_type": "display_data"
        }
      ],
      "source": [
        "# Esse plot mostra o agrupamento de valor gasto por cada produto.\n",
        "df.groupby('Product_ID')['Purchase'].sum().sort_values(ascending=False).head(10).plot(kind = 'bar', figsize=(15, 7))"
      ]
    },
    {
      "cell_type": "code",
      "execution_count": null,
      "metadata": {
        "id": "BcXWVqg82BUd",
        "outputId": "560099aa-665f-4ad4-a3d5-376eee006ccb"
      },
      "outputs": [
        {
          "data": {
            "text/plain": [
              "0          8370\n",
              "1         15200\n",
              "2          1422\n",
              "3          1057\n",
              "4          7969\n",
              "          ...  \n",
              "546518      249\n",
              "546553      607\n",
              "546672      135\n",
              "546691      123\n",
              "546813      613\n",
              "Name: Purchase, Length: 18105, dtype: int64"
            ]
          },
          "execution_count": 46,
          "metadata": {},
          "output_type": "execute_result"
        }
      ],
      "source": [
        "# Quando comparamos com a quantidade de valores únicos para o \"Purchase\", \n",
        "# os números não batem com os valores únicos para \"Product_ID\".\n",
        "df.Purchase.drop_duplicates()"
      ]
    },
    {
      "cell_type": "code",
      "execution_count": null,
      "metadata": {
        "id": "OqLXcgBb2BUe",
        "outputId": "ab715f3a-dcfa-4b2d-f3e1-54723767be29"
      },
      "outputs": [
        {
          "data": {
            "text/plain": [
              "Product_Category_1\n",
              "1     140378\n",
              "2      23864\n",
              "3      20213\n",
              "4      11753\n",
              "5     150933\n",
              "6      20466\n",
              "7       3721\n",
              "8     113925\n",
              "9        410\n",
              "10      5125\n",
              "11     24287\n",
              "12      3947\n",
              "13      5549\n",
              "14      1523\n",
              "15      6290\n",
              "16      9828\n",
              "17       578\n",
              "18      3125\n",
              "19      1603\n",
              "20      2550\n",
              "Name: Product_ID, dtype: int64"
            ]
          },
          "execution_count": 47,
          "metadata": {},
          "output_type": "execute_result"
        }
      ],
      "source": [
        "# Aqui podemos ver a quantidade de produtos vendidos divididos por categoria. \n",
        "df.groupby('Product_Category_1')['Product_ID'].size()"
      ]
    },
    {
      "cell_type": "code",
      "execution_count": null,
      "metadata": {
        "id": "yW8AZXXu2BUe",
        "outputId": "bf0018b0-8fdc-47d0-8fea-038ba9434b30"
      },
      "outputs": [
        {
          "data": {
            "text/plain": [
              "Product_Category_1\n",
              "1      493\n",
              "2      152\n",
              "3       90\n",
              "4       88\n",
              "5      967\n",
              "6      119\n",
              "7      102\n",
              "8     1047\n",
              "9        2\n",
              "10      25\n",
              "11     254\n",
              "12      25\n",
              "13      35\n",
              "14      44\n",
              "15      44\n",
              "16      98\n",
              "17      11\n",
              "18      30\n",
              "19       2\n",
              "20       3\n",
              "Name: Product_ID, dtype: int64"
            ]
          },
          "execution_count": 48,
          "metadata": {},
          "output_type": "execute_result"
        }
      ],
      "source": [
        "# Aqui podemos ver a quantidade de produtos cadastrados por categoria.\n",
        "info_produtos = df[['Product_ID', 'Product_Category_1']].drop_duplicates()\n",
        "info_produtos.groupby('Product_Category_1')['Product_ID'].count()"
      ]
    },
    {
      "cell_type": "markdown",
      "metadata": {
        "id": "iejrUeTqIxyb"
      },
      "source": [
        "# **3. Análise Exploratória**"
      ]
    },
    {
      "cell_type": "code",
      "execution_count": null,
      "metadata": {
        "colab": {
          "base_uri": "https://localhost:8080/"
        },
        "id": "S8O120UJQhqv",
        "outputId": "4dc2c462-ae76-4337-ea12-442889fbd535"
      },
      "outputs": [
        {
          "data": {
            "text/plain": [
              "array([ 3,  1, 12,  8,  5,  4,  2,  6, 14, 11, 13, 15,  7, 16, 18, 10, 17,\n",
              "        9, 20, 19], dtype=int64)"
            ]
          },
          "execution_count": 49,
          "metadata": {},
          "output_type": "execute_result"
        }
      ],
      "source": [
        "# Categorias dos produtos\n",
        "df['Product_Category_1'].unique()"
      ]
    },
    {
      "cell_type": "code",
      "execution_count": null,
      "metadata": {
        "colab": {
          "base_uri": "https://localhost:8080/",
          "height": 310
        },
        "id": "J5FU2HASYeIk",
        "outputId": "6302d9a2-6789-40a4-bba1-e12aeea4911b"
      },
      "outputs": [
        {
          "data": {
            "text/plain": [
              "<AxesSubplot:xlabel='Categoria produtos', ylabel='Faturamento'>"
            ]
          },
          "execution_count": 50,
          "metadata": {},
          "output_type": "execute_result"
        },
        {
          "data": {
            "image/png": "[encoded data removed]",
            "text/plain": [
              "<Figure size 1080x504 with 1 Axes>"
            ]
          },
          "metadata": {
            "needs_background": "light"
          },
          "output_type": "display_data"
        }
      ],
      "source": [
        "# Faturamento por categoria de produtos\n",
        "#df.rename(columns = {'Product_Category_1': 'Categoria produtos', 'Purchase': 'Faturamento'}, inplace = True)\n",
        "df.groupby('Product_Category_1')['Purchase'].sum().plot(kind = 'bar',  \n",
        "                                                        xlabel= 'Categoria produtos',\n",
        "                                                        ylabel= 'Faturamento',\n",
        "                                                        figsize= (15, 7))"
      ]
    },
    {
      "cell_type": "code",
      "execution_count": null,
      "metadata": {
        "colab": {
          "base_uri": "https://localhost:8080/",
          "height": 326
        },
        "id": "n5r3ULzQSRhK",
        "outputId": "c442092e-1e2a-4bda-f979-28b389c4aa28"
      },
      "outputs": [
        {
          "data": {
            "text/plain": [
              "<AxesSubplot:xlabel='Idade', ylabel='Faturamento'>"
            ]
          },
          "execution_count": 51,
          "metadata": {},
          "output_type": "execute_result"
        },
        {
          "data": {
            "image/png": "[encoded data removed]",
            "text/plain": [
              "<Figure size 1080x504 with 1 Axes>"
            ]
          },
          "metadata": {
            "needs_background": "light"
          },
          "output_type": "display_data"
        }
      ],
      "source": [
        "# Faturamento por idade\n",
        "df.groupby('Age')['Purchase'].sum().plot(kind = 'bar',\n",
        "                                         xlabel= 'Idade',\n",
        "                                         ylabel= 'Faturamento',\n",
        "                                         figsize=(15, 7))"
      ]
    },
    {
      "cell_type": "code",
      "execution_count": null,
      "metadata": {
        "colab": {
          "base_uri": "https://localhost:8080/",
          "height": 295
        },
        "id": "M2BQLYqUSWnn",
        "outputId": "2d1a375b-c6af-473d-c119-fe6d7ff97018"
      },
      "outputs": [
        {
          "data": {
            "text/plain": [
              "<AxesSubplot:ylabel='Idade e cidade'>"
            ]
          },
          "execution_count": 52,
          "metadata": {},
          "output_type": "execute_result"
        },
        {
          "data": {
            "image/png": "[encoded data removed]",
            "text/plain": [
              "<Figure size 1080x504 with 1 Axes>"
            ]
          },
          "metadata": {
            "needs_background": "light"
          },
          "output_type": "display_data"
        }
      ],
      "source": [
        "# Faturamento por idade e cidade\n",
        "df.groupby(['Age', 'City_Category'])['Purchase'].sum().plot(kind = 'barh',\n",
        "                                                            xlabel='Idade e cidade',\n",
        "                                                            ylabel='Faturamento',\n",
        "                                                            figsize=(15,7))"
      ]
    },
    {
      "cell_type": "markdown",
      "metadata": {
        "id": "fS72rPCZT4P9"
      },
      "source": [
        "**Solteiros compram mais?**"
      ]
    },
    {
      "cell_type": "code",
      "execution_count": null,
      "metadata": {
        "colab": {
          "base_uri": "https://localhost:8080/",
          "height": 304
        },
        "id": "lNyXzr1rTyun",
        "outputId": "30e40086-18e0-406c-c318-edc28d0c20af"
      },
      "outputs": [
        {
          "data": {
            "text/plain": [
              "<AxesSubplot:xlabel='Estado civil', ylabel='Faturamento'>"
            ]
          },
          "execution_count": 53,
          "metadata": {},
          "output_type": "execute_result"
        },
        {
          "data": {
            "image/png": "[encoded data removed]",
            "text/plain": [
              "<Figure size 1080x504 with 1 Axes>"
            ]
          },
          "metadata": {
            "needs_background": "light"
          },
          "output_type": "display_data"
        }
      ],
      "source": [
        "# Faturamento por estado civil \n",
        "df.groupby('Marital_Status')['Purchase'].sum().plot(kind = 'bar',\n",
        "                                                    xlabel='Estado civil',\n",
        "                                                    ylabel='Faturamento',\n",
        "                                                    figsize=(15,7))"
      ]
    },
    {
      "cell_type": "code",
      "execution_count": null,
      "metadata": {
        "colab": {
          "base_uri": "https://localhost:8080/"
        },
        "id": "QmxzDCQSSeWj",
        "outputId": "7bd729fd-6152-4649-9f30-cdba2760de08"
      },
      "outputs": [
        {
          "data": {
            "text/plain": [
              "Marital_Status  Gender\n",
              "0               F          684154127\n",
              "                M         2324773320\n",
              "1               F          502078515\n",
              "                M         1584806780\n",
              "Name: Purchase, dtype: int64"
            ]
          },
          "execution_count": 54,
          "metadata": {},
          "output_type": "execute_result"
        }
      ],
      "source": [
        "# Faturamento por estado civil e genero\n",
        "df.groupby(['Marital_Status', 'Gender'])['Purchase'].sum()"
      ]
    },
    {
      "cell_type": "code",
      "execution_count": null,
      "metadata": {
        "colab": {
          "base_uri": "https://localhost:8080/",
          "height": 326
        },
        "id": "aSj9n31YTmgs",
        "outputId": "90cf8d37-cd04-4626-e635-1af7ecbc6e15"
      },
      "outputs": [
        {
          "data": {
            "text/plain": [
              "<AxesSubplot:xlabel='Estado civil e genero', ylabel='Faturamento'>"
            ]
          },
          "execution_count": 55,
          "metadata": {},
          "output_type": "execute_result"
        },
        {
          "data": {
            "image/png": "[encoded data removed]",
            "text/plain": [
              "<Figure size 1080x504 with 1 Axes>"
            ]
          },
          "metadata": {
            "needs_background": "light"
          },
          "output_type": "display_data"
        }
      ],
      "source": [
        "df.groupby(['Marital_Status', 'Gender'])['Purchase'].sum().plot(kind = 'bar',\n",
        "                                                    xlabel='Estado civil e genero',\n",
        "                                                    ylabel='Faturamento',\n",
        "                                                    figsize=(15,7))"
      ]
    },
    {
      "cell_type": "markdown",
      "metadata": {
        "id": "xHIERn8HUmq2"
      },
      "source": [
        "**Análise dos produtos (product_id)**"
      ]
    },
    {
      "cell_type": "code",
      "execution_count": null,
      "metadata": {
        "colab": {
          "base_uri": "https://localhost:8080/",
          "height": 501
        },
        "id": "4nC7mBVPQ_MH",
        "outputId": "9cdd8cc8-aa94-47fa-dbef-c384c12a7475"
      },
      "outputs": [
        {
          "data": {
            "image/png": "[encoded data removed]",
            "text/plain": [
              "<Figure size 1080x504 with 1 Axes>"
            ]
          },
          "metadata": {
            "needs_background": "light"
          },
          "output_type": "display_data"
        }
      ],
      "source": [
        "# produtos mais vendidos\n",
        "produtos_mais_vendidos = df.Product_ID.value_counts()\n",
        "grafico_legendado = produtos_mais_vendidos.head().sort_values(ascending=True).plot(kind = 'barh', figsize=(15,7))\n",
        "labels = [str(round(x / grafico_legendado.containers[0].datavalues.sum() * 100, 1)) + '%' for x in grafico_legendado.containers[0].datavalues]\n",
        "plt.bar_label(grafico_legendado.containers[0], labels);\n",
        "grafico_legendado.spines['top'].set_visible(False)\n",
        "grafico_legendado.spines['right'].set_visible(False)"
      ]
    },
    {
      "cell_type": "code",
      "execution_count": null,
      "metadata": {
        "id": "mmFTNmZMXMaN",
        "outputId": "9c03b4cc-4ea8-4f0d-8f15-b05374f31181"
      },
      "outputs": [
        {
          "data": {
            "text/plain": [
              "<AxesSubplot:ylabel='Faturamento'>"
            ]
          },
          "execution_count": 57,
          "metadata": {},
          "output_type": "execute_result"
        },
        {
          "data": {
            "image/png": "[encoded data removed]",
            "text/plain": [
              "<Figure size 1080x504 with 1 Axes>"
            ]
          },
          "metadata": {
            "needs_background": "light"
          },
          "output_type": "display_data"
        }
      ],
      "source": [
        "# Faturamento por produto e por genero\n",
        "df.groupby(['Gender', 'Product_ID'])['Purchase'].sum().head().plot(kind = 'barh',\n",
        "                                                    xlabel='Faturamento',\n",
        "                                                    ylabel='Genero e produto',\n",
        "                                                    figsize=(15,7))"
      ]
    },
    {
      "cell_type": "code",
      "execution_count": null,
      "metadata": {
        "id": "Qxxt6vu6XbIl",
        "outputId": "b4c84227-deb7-42e2-f383-ae59e4fb2a16"
      },
      "outputs": [
        {
          "data": {
            "text/plain": [
              "<AxesSubplot:xlabel='Product_ID'>"
            ]
          },
          "execution_count": 58,
          "metadata": {},
          "output_type": "execute_result"
        },
        {
          "data": {
            "image/png": "[encoded data removed]",
            "text/plain": [
              "<Figure size 1080x504 with 1 Axes>"
            ]
          },
          "metadata": {
            "needs_background": "light"
          },
          "output_type": "display_data"
        }
      ],
      "source": [
        "# Faturamento do genero masculino por produto\n",
        "df[df['Gender'] == 'M'].groupby('Product_ID')['Purchase'].sum().sort_values(ascending=False).head().plot(kind = 'bar', figsize=(15,7) )\n",
        "                                                                                                        #  xlabel='Produto',\n",
        "                                                                                                        #  ylabel='Faturamento')"
      ]
    },
    {
      "cell_type": "code",
      "execution_count": null,
      "metadata": {
        "id": "4bSgHPO1XrZl",
        "outputId": "ce86bca6-c5e9-4d29-abca-31511e3ccfef"
      },
      "outputs": [
        {
          "data": {
            "text/plain": [
              "<AxesSubplot:xlabel='Product_ID'>"
            ]
          },
          "execution_count": 59,
          "metadata": {},
          "output_type": "execute_result"
        },
        {
          "data": {
            "image/png": "[encoded data removed]",
            "text/plain": [
              "<Figure size 1080x504 with 1 Axes>"
            ]
          },
          "metadata": {
            "needs_background": "light"
          },
          "output_type": "display_data"
        }
      ],
      "source": [
        "# Faturramento do genero feminino por poduto\n",
        "df[df['Gender'] == 'F'].groupby('Product_ID')['Purchase'].sum().sort_values(ascending=False).head().plot(kind = 'bar', figsize=(15,7))\n",
        "                                                                                                        #  xlabel='Produto',\n",
        "                                                                                                        #  ylabel='Faturamento')"
      ]
    },
    {
      "cell_type": "code",
      "execution_count": null,
      "metadata": {
        "id": "w-k0nEUP2BUi"
      },
      "outputs": [],
      "source": [
        "# Definindo faturamento do genero feminino e masculino por poduto\n",
        "faturamento_fem = df[df['Gender'] == 'F'].groupby('Product_ID')['Purchase'].sum().sort_values(ascending=False).head()\n",
        "faturamento_masc = df[df['Gender'] == 'M'].groupby('Product_ID')['Purchase'].sum().sort_values(ascending=False).head()"
      ]
    },
    {
      "cell_type": "code",
      "execution_count": null,
      "metadata": {
        "id": "7rvcFoP02BUi",
        "outputId": "4d7a7477-6e51-45e9-974a-b2f42744f62e"
      },
      "outputs": [
        {
          "data": {
            "image/png": "[encoded data removed]",
            "text/plain": [
              "<Figure size 1080x504 with 1 Axes>"
            ]
          },
          "metadata": {
            "needs_background": "light"
          },
          "output_type": "display_data"
        }
      ],
      "source": [
        "# Dados para o primeiro gráfico de barra\n",
        "dados1 = faturamento_masc.values\n",
        "labels1 = ['1º', '2º', '3º', '4º', '5º']\n",
        "\n",
        "# Dados para o segundo gráfico de barra\n",
        "dados2 = faturamento_fem.values\n",
        "labels2 = ['1º', '2º', '3º', '4º', '5º']\n",
        "\n",
        "# Configurações para o primeiro gráfico de barra\n",
        "index = np.arange(len(labels1))\n",
        "bar_width = 0.35\n",
        "opacity = 0.8\n",
        "\n",
        "fig, ax = plt.subplots(figsize=(15,7))\n",
        "rects1 = ax.bar(index, dados1, bar_width, alpha=opacity, color='b', label='Faturamento Masculino')\n",
        "\n",
        "# Configurações para o segundo gráfico de barra\n",
        "index2 = np.arange(len(labels2)) + bar_width\n",
        "rects2 = ax.bar(index2, dados2, bar_width, alpha=opacity, color='r', label='Faturamento Feminino')\n",
        "\n",
        "ax.set_xlabel('Produtos')\n",
        "ax.set_ylabel('Valores')\n",
        "ax.set_title('Produtos Mais Vendidos Por Gênero')\n",
        "ax.set_xticks(index + bar_width / 2)\n",
        "ax.set_xticklabels(labels1)\n",
        "ax.legend()\n",
        "\n",
        "plt.tight_layout()\n",
        "plt.show()"
      ]
    },
    {
      "cell_type": "markdown",
      "metadata": {
        "id": "as6xOYrRjsRv"
      },
      "source": [
        "# **4. Conclusões**"
      ]
    },
    {
      "cell_type": "markdown",
      "metadata": {
        "id": "Bj0I-dB2j3uH"
      },
      "source": [
        "\n",
        "* Solteiros compram mais\n",
        "* Homens compram mais que mulheres\n",
        "* O maior faturamento foram dos produtos da categoria 1\n",
        "* Pessoas com idade entre 26 - 35 anos compram mais\n",
        "* Cidade com mais compras é a B\n",
        "* O produto que mais foi vendido: P00265242 com 23.1% das vendas"
      ]
    },
    {
      "cell_type": "markdown",
      "metadata": {
        "id": "nGjAO_Rf2BUj"
      },
      "source": []
    }
  ],
  "metadata": {
    "colab": {
      "collapsed_sections": [
        "LbwZJsuBcCki",
        "Y0avbkVvebFo",
        "DGENH-c9GVdd"
      ],
      "provenance": []
    },
    "kernelspec": {
      "display_name": "base",
      "language": "python",
      "name": "python3"
    },
    "language_info": {
      "codemirror_mode": {
        "name": "ipython",
        "version": 3
      },
      "file_extension": ".py",
      "mimetype": "text/x-python",
      "name": "python",
      "nbconvert_exporter": "python",
      "pygments_lexer": "ipython3",
      "version": "3.9.12"
    },
    "vscode": {
      "interpreter": {
        "hash": "a5b4dfce5a4c4243e54de9550bf505fb865cd75083d4645e23b02bbbaeee94cf"
      }
    }
  },
  "nbformat": 4,
  "nbformat_minor": 0
}