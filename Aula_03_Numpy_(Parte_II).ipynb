{
  "cells": [
    {
      "cell_type": "markdown",
      "metadata": {
        "id": "Vd0jefU5Jfz4"
      },
      "source": [
        "# Aula 03 - NumPy (Parte II)"
      ]
    },
    {
      "cell_type": "markdown",
      "metadata": {
        "id": "QCFx8GAPJfz8"
      },
      "source": [
        "<img src=\"https://upload.wikimedia.org/wikipedia/commons/thumb/3/31/NumPy_logo_2020.svg/2560px-NumPy_logo_2020.svg.png\" alt=\"Alternative text\" />"
      ]
    },
    {
      "cell_type": "markdown",
      "metadata": {
        "id": "BpXxfi1WJfz9"
      },
      "source": [
        "[Guia rápido de uso da biblioteca](https://numpy.org/devdocs/user/quickstart.html)\n",
        "\n",
        "[Guia para iniciantes](https://numpy.org/devdocs/user/absolute_beginners.html)"
      ]
    },
    {
      "cell_type": "markdown",
      "metadata": {
        "id": "tOBvNrYfJfz-"
      },
      "source": [
        "Na aula passada, vimos que:\n",
        "\n",
        "- um **array** é o elemento básico por meio do qual a biblioteca *numpy* opera;\n",
        "- este elemento **difere de uma lista**, por ser homogêneo e possibilitar cálculos de uma maneira altamente eficiente;\n",
        "- a **indexação** de arrays é muito similar àquela de listas;\n",
        "- a biblioteca *numpy* fornece ferramentas para gerar arrays baseados em distribuições estatísticas (como uniforme e normal) de maneira aleatória;\n",
        "- existem diversos métodos que sumarizam alguamas propriedades dos vetores, como *.mean()*, *.std()*, entre outros."
      ]
    },
    {
      "cell_type": "markdown",
      "metadata": {
        "id": "09Qhm9crJfz-"
      },
      "source": [
        "Na aula de hoje, vamos explorar os conceitos de **filtros** e de **matrizes** com numpy."
      ]
    },
    {
      "cell_type": "markdown",
      "metadata": {
        "id": "RuDroqASJfz_"
      },
      "source": [
        "___"
      ]
    },
    {
      "cell_type": "markdown",
      "metadata": {
        "id": "xIsoZyWAJfz_"
      },
      "source": [
        "#### Filtros (máscaras)\n",
        "\n",
        "Uma das funções mais importantes do numpy é a possibilidade de construção de **filtros**, que também são chamados de **máscaras**\n",
        "\n",
        "O objetivo dos filtros é **selecionar apenas os elementos de um array que satisfaçam determinada condição**"
      ]
    },
    {
      "cell_type": "code",
      "execution_count": null,
      "metadata": {
        "id": "2pANXTorJf0A",
        "outputId": "e2c47e32-5027-408d-c648-cada196700e2"
      },
      "outputs": [
        {
          "data": {
            "text/plain": [
              "array([0.80871259, 0.16134652, 0.55347553, 0.26900137, 0.90197188,\n",
              "       0.06355048, 0.02206885, 0.82342372, 0.13533295, 0.25639517,\n",
              "       0.94369673, 0.59299958, 0.91276365, 0.15018847, 0.42505178,\n",
              "       0.58308974, 0.95497367, 0.98718327, 0.55111349, 0.12027837])"
            ]
          },
          "execution_count": 4,
          "metadata": {},
          "output_type": "execute_result"
        }
      ],
      "source": [
        "# definindo um array aleatoriamente\n",
        "import numpy as np\n",
        "arr = np.random.rand(20)\n",
        "arr"
      ]
    },
    {
      "cell_type": "markdown",
      "metadata": {
        "id": "i_h3d-RCJf0B"
      },
      "source": [
        "Ao usar um **operador lógico** juntamente com um array, o numpy **aplica a operação lógica a cada um dos elementos do array**, retornando um **array de bools** com o resultado de cada uma das operações lógicas:"
      ]
    },
    {
      "cell_type": "code",
      "execution_count": null,
      "metadata": {
        "id": "MeBew7QVJf0B",
        "outputId": "b3a71730-d763-4fea-baf1-49436fa494eb"
      },
      "outputs": [
        {
          "data": {
            "text/plain": [
              "array([False,  True, False,  True, False,  True,  True, False,  True,\n",
              "        True, False, False, False,  True,  True, False, False, False,\n",
              "       False,  True])"
            ]
          },
          "execution_count": 5,
          "metadata": {},
          "output_type": "execute_result"
        }
      ],
      "source": [
        "# quais elementos do array são menores que 0.5?\n",
        "arr < 0.5"
      ]
    },
    {
      "cell_type": "code",
      "execution_count": null,
      "metadata": {
        "id": "fKGZufpzJf0C",
        "outputId": "82ccc42d-2a03-4cc3-8fba-456332d7192d"
      },
      "outputs": [
        {
          "data": {
            "text/plain": [
              "array([ True, False,  True, False,  True, False, False,  True, False,\n",
              "       False,  True,  True,  True, False, False,  True,  True,  True,\n",
              "        True, False])"
            ]
          },
          "execution_count": 8,
          "metadata": {},
          "output_type": "execute_result"
        }
      ],
      "source": [
        "# Quantos elementos são maiores que 0.5?\n",
        "(arr > 0.5)"
      ]
    },
    {
      "cell_type": "code",
      "execution_count": null,
      "metadata": {
        "id": "G5CLx7mRJf0C",
        "outputId": "0af5f1d8-b517-4222-f6a7-4cc27c4b2523"
      },
      "outputs": [
        {
          "data": {
            "text/plain": [
              "20"
            ]
          },
          "execution_count": 13,
          "metadata": {},
          "output_type": "execute_result"
        }
      ],
      "source": [
        "(arr > 0.5).size"
      ]
    },
    {
      "cell_type": "code",
      "execution_count": null,
      "metadata": {
        "id": "-5qGyRSUJf0C",
        "outputId": "9f23f578-91e2-4129-9c62-9c2f08b80529"
      },
      "outputs": [
        {
          "data": {
            "text/plain": [
              "11"
            ]
          },
          "execution_count": 12,
          "metadata": {},
          "output_type": "execute_result"
        }
      ],
      "source": [
        "(arr > 0.5).sum()"
      ]
    },
    {
      "cell_type": "markdown",
      "metadata": {
        "id": "qOmP3TqmJf0D"
      },
      "source": [
        "Uma vez criado o filtro, é possível **utilizá-lo como indexador do array**, para selecionar **apenas os elementos com indice correspondente a True no filtro**"
      ]
    },
    {
      "cell_type": "code",
      "execution_count": null,
      "metadata": {
        "id": "bbu2MKJvJf0D",
        "outputId": "74e41078-5c40-47ec-bf44-2cc37a4d5de9"
      },
      "outputs": [
        {
          "data": {
            "text/plain": [
              "array([0.80871259, 0.16134652, 0.55347553, 0.26900137, 0.90197188,\n",
              "       0.06355048, 0.02206885, 0.82342372, 0.13533295, 0.25639517,\n",
              "       0.94369673, 0.59299958, 0.91276365, 0.15018847, 0.42505178,\n",
              "       0.58308974, 0.95497367, 0.98718327, 0.55111349, 0.12027837])"
            ]
          },
          "execution_count": 14,
          "metadata": {},
          "output_type": "execute_result"
        }
      ],
      "source": [
        "arr"
      ]
    },
    {
      "cell_type": "code",
      "execution_count": null,
      "metadata": {
        "id": "Ug-zSyRyJf0D",
        "outputId": "25e137ee-a5ce-43f1-d261-26aa6fcc99d0"
      },
      "outputs": [
        {
          "data": {
            "text/plain": [
              "array([0.16134652, 0.26900137, 0.06355048, 0.02206885, 0.13533295,\n",
              "       0.25639517, 0.15018847, 0.42505178, 0.12027837])"
            ]
          },
          "execution_count": 17,
          "metadata": {},
          "output_type": "execute_result"
        }
      ],
      "source": [
        "# quero elementos do \"arr\" que satisfaçam uma dada condição (ser menor que 0.5)\n",
        "arr[arr < 0.5]"
      ]
    },
    {
      "cell_type": "code",
      "execution_count": null,
      "metadata": {
        "id": "3Mjxg_92Jf0E",
        "outputId": "62aad36f-d077-47ff-e1bd-f3b69f583a1d"
      },
      "outputs": [
        {
          "data": {
            "text/plain": [
              "array([0.80871259, 0.55347553, 0.90197188, 0.82342372, 0.94369673,\n",
              "       0.59299958, 0.91276365, 0.58308974, 0.95497367, 0.98718327,\n",
              "       0.55111349])"
            ]
          },
          "execution_count": 18,
          "metadata": {},
          "output_type": "execute_result"
        }
      ],
      "source": [
        "# quero elementos do \"arr\" que satisfaçam uma dada condição (ser maior que 0.5)\n",
        "arr[arr > 0.5]"
      ]
    },
    {
      "cell_type": "code",
      "execution_count": null,
      "metadata": {
        "id": "dHUw59XwJf0E",
        "outputId": "9e23dcda-2679-4aaf-a24a-5af70b879506"
      },
      "outputs": [
        {
          "data": {
            "text/plain": [
              "array([], dtype=float64)"
            ]
          },
          "execution_count": 19,
          "metadata": {},
          "output_type": "execute_result"
        }
      ],
      "source": [
        "# quero elementos do \"arr\" que satisfaçam uma dada condição (ser igual a 0.5)\n",
        "arr[arr == 0.5]"
      ]
    },
    {
      "cell_type": "markdown",
      "metadata": {
        "id": "O_FKjLiBJf0E"
      },
      "source": [
        "Mais um exemplo..."
      ]
    },
    {
      "cell_type": "code",
      "execution_count": null,
      "metadata": {
        "id": "9kTKAgU7Jf0F",
        "outputId": "48b4f54d-a806-41e5-c5c0-09bbdd2c1d62"
      },
      "outputs": [
        {
          "data": {
            "text/plain": [
              "array([52, 97, 72, 88, 44, 46, 90, 64, 18, 80, 15, 64, 15, 68, 81,  0, 63,\n",
              "       31, 66, 85])"
            ]
          },
          "execution_count": 20,
          "metadata": {},
          "output_type": "execute_result"
        }
      ],
      "source": [
        "# definindo um novo array aleatório de inteiros\n",
        "\n",
        "ints = np.random.randint(0, 100, 20)\n",
        "ints"
      ]
    },
    {
      "cell_type": "code",
      "execution_count": null,
      "metadata": {
        "id": "eyO7gKFBJf0H",
        "outputId": "6ebe89b7-c04a-4147-91db-6a30460a787d"
      },
      "outputs": [
        {
          "data": {
            "text/plain": [
              "array([52, 72, 88, 44, 46, 90, 64, 18, 80, 64, 68,  0, 66])"
            ]
          },
          "execution_count": 22,
          "metadata": {},
          "output_type": "execute_result"
        }
      ],
      "source": [
        "# filtrando apenas os pares\n",
        "ints[ints % 2 == 0]"
      ]
    },
    {
      "cell_type": "code",
      "execution_count": null,
      "metadata": {
        "id": "eFsFCKWiJf0H",
        "outputId": "1acf6cb2-7723-461b-a594-63ecf4260a18"
      },
      "outputs": [
        {
          "data": {
            "text/plain": [
              "array([97, 15, 15, 81, 63, 31, 85])"
            ]
          },
          "execution_count": 23,
          "metadata": {},
          "output_type": "execute_result"
        }
      ],
      "source": [
        "# filtrando apenas os ímpares\n",
        "ints[ints % 2 != 0]"
      ]
    },
    {
      "cell_type": "code",
      "execution_count": null,
      "metadata": {
        "id": "zunAvnipJf0I",
        "outputId": "348b0dde-545b-42e9-94d6-f977dcb6e5c9"
      },
      "outputs": [
        {
          "data": {
            "text/plain": [
              "array([97, 15, 15, 81, 63, 31, 85])"
            ]
          },
          "execution_count": 26,
          "metadata": {},
          "output_type": "execute_result"
        }
      ],
      "source": [
        "# filtrando apenas os ímpares\n",
        "ints[~(ints % 2 == 0)]"
      ]
    },
    {
      "cell_type": "code",
      "execution_count": null,
      "metadata": {
        "id": "4i985FtcJf0I",
        "outputId": "2cd92b7d-28de-48c6-e9d7-a35e00e13a78"
      },
      "outputs": [
        {
          "data": {
            "text/plain": [
              "7"
            ]
          },
          "execution_count": 27,
          "metadata": {},
          "output_type": "execute_result"
        }
      ],
      "source": [
        "# quantidade de ímpáres\n",
        "ints[~(ints % 2 == 0)].size"
      ]
    },
    {
      "cell_type": "code",
      "execution_count": null,
      "metadata": {
        "id": "xx3muEk0Jf0J",
        "outputId": "d470cdf5-984a-472b-fa69-93f717fb6f69"
      },
      "outputs": [
        {
          "data": {
            "text/plain": [
              "387"
            ]
          },
          "execution_count": 28,
          "metadata": {},
          "output_type": "execute_result"
        }
      ],
      "source": [
        "# soma dos ímpáres\n",
        "ints[~(ints % 2 == 0)].sum()"
      ]
    },
    {
      "cell_type": "markdown",
      "metadata": {
        "id": "Kpm45GMGJf0J"
      },
      "source": [
        "[np.where](https://numpy.org/doc/stable/reference/generated/numpy.where.html)"
      ]
    },
    {
      "cell_type": "code",
      "execution_count": null,
      "metadata": {
        "id": "KTlCOd70Jf0K",
        "outputId": "ef5d2dd8-4399-4354-c91f-85c7464e4c83"
      },
      "outputs": [
        {
          "data": {
            "text/plain": [
              "array([52, 97, 72, 88, 44, 46, 90, 64, 18, 80, 15, 64, 15, 68, 81,  0, 63,\n",
              "       31, 66, 85])"
            ]
          },
          "execution_count": 31,
          "metadata": {},
          "output_type": "execute_result"
        }
      ],
      "source": [
        "ints"
      ]
    },
    {
      "cell_type": "code",
      "execution_count": null,
      "metadata": {
        "id": "yahBIVOPJf0K",
        "outputId": "98028126-bf70-4b6d-f7d8-02ef5d828362"
      },
      "outputs": [
        {
          "data": {
            "text/plain": [
              "array([52., nan, 72., 88., 44., 46., 90., 64., 18., 80., nan, 64., nan,\n",
              "       68., nan,  0., nan, nan, 66., nan])"
            ]
          },
          "execution_count": 30,
          "metadata": {},
          "output_type": "execute_result"
        }
      ],
      "source": [
        "# Filtro para ser par\n",
        "np.where(ints % 2 == 0, ints, np.nan)"
      ]
    },
    {
      "cell_type": "code",
      "execution_count": null,
      "metadata": {
        "id": "oWQ5ujeNJf0L",
        "outputId": "82b4689e-7062-4f66-f2ac-f2ff6b7f41e6"
      },
      "outputs": [
        {
          "data": {
            "text/plain": [
              "False"
            ]
          },
          "execution_count": 33,
          "metadata": {},
          "output_type": "execute_result"
        }
      ],
      "source": [
        "a = 10\n",
        "~ a > 1"
      ]
    },
    {
      "cell_type": "markdown",
      "metadata": {
        "id": "cOOliBk4Jf0L"
      },
      "source": [
        "Também é possível aplicar **filtros compostos**!\n",
        "\n",
        "Pra fazer isso, nós fazems uma **composição lógica** entre os filtros (análogo ao \"and\" e ao \"or\")\n",
        "\n",
        "No caso de arrays, usamos:\n",
        "\n",
        "- \"&\" para \"and\"\n",
        "- \"|\" para \"or\"\n",
        "- \"~\" para \"not\""
      ]
    },
    {
      "cell_type": "code",
      "execution_count": null,
      "metadata": {
        "id": "Tfd-cGz3Jf0L",
        "outputId": "8887a04b-0651-4829-f90a-c1e510698634"
      },
      "outputs": [
        {
          "data": {
            "text/plain": [
              "array([ True, False,  True,  True, False, False,  True,  True, False,\n",
              "        True, False,  True, False,  True, False, False, False, False,\n",
              "        True, False])"
            ]
          },
          "execution_count": 34,
          "metadata": {},
          "output_type": "execute_result"
        }
      ],
      "source": [
        "# filtrar divisíveis por 2 e maiores que 50\n",
        "(ints % 2 == 0) & (ints > 50)"
      ]
    },
    {
      "cell_type": "code",
      "execution_count": null,
      "metadata": {
        "id": "Z87paqhzJf0L",
        "outputId": "c3a0f7fc-e8be-4345-a866-8e1acb494227"
      },
      "outputs": [
        {
          "data": {
            "text/plain": [
              "array([52, 72, 88, 90, 64, 80, 64, 68, 66])"
            ]
          },
          "execution_count": 35,
          "metadata": {},
          "output_type": "execute_result"
        }
      ],
      "source": [
        "# filtrar divisíveis por 2 e maiores que 50\n",
        "ints[(ints % 2 == 0) & (ints > 50)]"
      ]
    },
    {
      "cell_type": "code",
      "execution_count": null,
      "metadata": {
        "id": "f6Q6L6rUJf0L",
        "outputId": "f4886d90-be04-4743-9277-423697fd98a0"
      },
      "outputs": [
        {
          "data": {
            "text/plain": [
              "array([52, 97, 72, 88, 44, 46, 90, 64, 18, 80, 64, 68, 81,  0, 63, 66, 85])"
            ]
          },
          "execution_count": 36,
          "metadata": {},
          "output_type": "execute_result"
        }
      ],
      "source": [
        "# filtrar divisíveis por 2 OU maiores que 50\n",
        "ints[(ints % 2 == 0) | (ints > 50)]"
      ]
    },
    {
      "cell_type": "code",
      "execution_count": null,
      "metadata": {
        "id": "Ot-agjE0Jf0M",
        "outputId": "6447f6f7-fad4-4243-d6fe-35be49f1c6a9"
      },
      "outputs": [
        {
          "data": {
            "text/plain": [
              "array([52, 97, 72, 88, 90, 64, 80, 15, 64, 15, 68, 81, 63, 31, 66, 85])"
            ]
          },
          "execution_count": 37,
          "metadata": {},
          "output_type": "execute_result"
        }
      ],
      "source": [
        "# filtrar ímpares OU maiores que 50\n",
        "ints[~ (ints % 2 == 0) | (ints > 50)]"
      ]
    },
    {
      "cell_type": "markdown",
      "metadata": {
        "id": "zSf61lcrJf0M"
      },
      "source": [
        "___"
      ]
    },
    {
      "cell_type": "markdown",
      "metadata": {
        "id": "8Akc95mKJf0M"
      },
      "source": [
        "### Matrizes"
      ]
    },
    {
      "cell_type": "markdown",
      "metadata": {
        "id": "nm3GUnkTJf0M"
      },
      "source": [
        "Costumamos nos referir às **matrizes** como arrays multidimensionais (i.e., mais de uma dimensão)."
      ]
    },
    {
      "cell_type": "markdown",
      "metadata": {
        "id": "czRmXE9iJf0M"
      },
      "source": [
        "<img src = \"https://numpy.org/devdocs/_images/np_create_matrix.png\" />"
      ]
    },
    {
      "cell_type": "code",
      "execution_count": null,
      "metadata": {
        "id": "ceQpqeAUJf0M",
        "outputId": "f3d08ebb-6071-4496-e22a-7f32d57bede4"
      },
      "outputs": [
        {
          "data": {
            "text/plain": [
              "array([[1, 2],\n",
              "       [3, 4],\n",
              "       [5, 6]])"
            ]
          },
          "execution_count": 41,
          "metadata": {},
          "output_type": "execute_result"
        }
      ],
      "source": [
        "data = np.array([[1,2],[3,4],[5,6]])\n",
        "data"
      ]
    },
    {
      "cell_type": "markdown",
      "metadata": {
        "id": "z0Y97JZJJf0N"
      },
      "source": [
        "[numpy.shape](https://numpy.org/doc/stable/reference/generated/numpy.shape.html)"
      ]
    },
    {
      "cell_type": "code",
      "execution_count": null,
      "metadata": {
        "id": "DvOhLbZNJf0N",
        "outputId": "072109f5-e78c-44eb-ec05-0e7117bd7a57"
      },
      "outputs": [
        {
          "data": {
            "text/plain": [
              "6"
            ]
          },
          "execution_count": 42,
          "metadata": {},
          "output_type": "execute_result"
        }
      ],
      "source": [
        "data.size"
      ]
    },
    {
      "cell_type": "code",
      "execution_count": null,
      "metadata": {
        "id": "sG_kpQbOJf0N",
        "outputId": "602c6ea8-f004-419f-f356-6f513c4fa19b"
      },
      "outputs": [
        {
          "data": {
            "text/plain": [
              "(3, 2)"
            ]
          },
          "execution_count": 43,
          "metadata": {},
          "output_type": "execute_result"
        }
      ],
      "source": [
        "# Retorna o formato da matriz como numero_de_linhas x numero_de_colunas\n",
        "data.shape"
      ]
    },
    {
      "cell_type": "markdown",
      "metadata": {
        "id": "fa0vf2g_Jf0N"
      },
      "source": [
        "#### Indexação de matrizes"
      ]
    },
    {
      "cell_type": "markdown",
      "metadata": {
        "id": "ZdxpP_A4Jf0N"
      },
      "source": [
        "A idexação com matrizes segue a mesma lógica dos arrays. Há algumas formas de indexar o mesmo elemento, conforme ilustrado abaixo."
      ]
    },
    {
      "cell_type": "markdown",
      "metadata": {
        "id": "ctxDdms0Jf0N"
      },
      "source": [
        "Suponhamos que queiramos o elemento da segunda linha da matriz, e da segunda coluna."
      ]
    },
    {
      "cell_type": "code",
      "execution_count": null,
      "metadata": {
        "id": "iEVV76pRJf0N",
        "outputId": "7f9011a5-4e8f-4ceb-e48f-2ea053f182c3"
      },
      "outputs": [
        {
          "data": {
            "text/plain": [
              "array([[1, 2],\n",
              "       [3, 4],\n",
              "       [5, 6]])"
            ]
          },
          "execution_count": 45,
          "metadata": {},
          "output_type": "execute_result"
        }
      ],
      "source": [
        "data"
      ]
    },
    {
      "cell_type": "code",
      "execution_count": null,
      "metadata": {
        "id": "hdhtKz7JJf0O",
        "outputId": "fba101fe-9f36-4bd2-b633-482c29bcd441"
      },
      "outputs": [
        {
          "data": {
            "text/plain": [
              "4"
            ]
          },
          "execution_count": 44,
          "metadata": {},
          "output_type": "execute_result"
        }
      ],
      "source": [
        "# ordem: linha, coluna\n",
        "data[1,1]"
      ]
    },
    {
      "cell_type": "markdown",
      "metadata": {
        "id": "FXb2qH18Jf0O"
      },
      "source": [
        "Alternativamente, podemos indexar o mesmo elemento escrevendo:"
      ]
    },
    {
      "cell_type": "code",
      "execution_count": null,
      "metadata": {
        "id": "toVKjz4pJf0O",
        "outputId": "668befc8-8f96-4409-ad0b-26cee55be526"
      },
      "outputs": [
        {
          "data": {
            "text/plain": [
              "4"
            ]
          },
          "execution_count": 46,
          "metadata": {},
          "output_type": "execute_result"
        }
      ],
      "source": [
        "data[1][1]"
      ]
    },
    {
      "cell_type": "markdown",
      "metadata": {
        "id": "CduL7IV9Jf0O"
      },
      "source": [
        "<img src = \"https://numpy.org/devdocs/_images/np_matrix_indexing.png\" />"
      ]
    },
    {
      "cell_type": "markdown",
      "metadata": {
        "id": "c-onN9AAJf0O"
      },
      "source": [
        "#### Agregações"
      ]
    },
    {
      "cell_type": "markdown",
      "metadata": {
        "id": "pcDbes3VJf0O"
      },
      "source": [
        "Similarmente a como fizemos com **arrays**, também podemos aplicar **funções de agregação** às matrizes:"
      ]
    },
    {
      "cell_type": "code",
      "execution_count": null,
      "metadata": {
        "id": "1ME4IT7VJf0O",
        "outputId": "00836f24-0dcb-4415-ed6b-d929525f0961"
      },
      "outputs": [
        {
          "data": {
            "text/plain": [
              "array([[1, 2],\n",
              "       [3, 4],\n",
              "       [5, 6]])"
            ]
          },
          "execution_count": 48,
          "metadata": {},
          "output_type": "execute_result"
        }
      ],
      "source": [
        "data"
      ]
    },
    {
      "cell_type": "code",
      "execution_count": null,
      "metadata": {
        "id": "t24RyG1jJf0O",
        "outputId": "d239f215-1a7c-4bd2-af50-abae238155c0"
      },
      "outputs": [
        {
          "data": {
            "text/plain": [
              "6"
            ]
          },
          "execution_count": 47,
          "metadata": {},
          "output_type": "execute_result"
        }
      ],
      "source": [
        "data.max()"
      ]
    },
    {
      "cell_type": "code",
      "execution_count": null,
      "metadata": {
        "id": "xQUv01BcJf0P",
        "outputId": "6c45db12-a564-4c53-eda6-96998e0838c4"
      },
      "outputs": [
        {
          "data": {
            "text/plain": [
              "1"
            ]
          },
          "execution_count": 49,
          "metadata": {},
          "output_type": "execute_result"
        }
      ],
      "source": [
        "data.min()"
      ]
    },
    {
      "cell_type": "code",
      "execution_count": null,
      "metadata": {
        "id": "h4D5nwtjJf0P",
        "outputId": "1281799e-4199-4068-d85f-623f39920d75"
      },
      "outputs": [
        {
          "data": {
            "text/plain": [
              "21"
            ]
          },
          "execution_count": 50,
          "metadata": {},
          "output_type": "execute_result"
        }
      ],
      "source": [
        "data.sum()"
      ]
    },
    {
      "cell_type": "markdown",
      "metadata": {
        "id": "kwnzHd7-Jf0P"
      },
      "source": [
        "<img src = \"https://numpy.org/devdocs/_images/np_matrix_aggregation.png\" />"
      ]
    },
    {
      "cell_type": "markdown",
      "metadata": {
        "id": "TQRihT6gJf0P"
      },
      "source": [
        "Também podemos ter situações em que gostaríamos de **agregar por linhas e/ou colunas**, o que também é possível, especificando o parâmetro *axis*, conforme abaixo."
      ]
    },
    {
      "cell_type": "code",
      "execution_count": null,
      "metadata": {
        "id": "BFY88k4XJf0P",
        "outputId": "08ca050f-f42f-4733-c966-968a5713dbea"
      },
      "outputs": [
        {
          "data": {
            "text/plain": [
              "array([[1, 2],\n",
              "       [3, 4],\n",
              "       [5, 6]])"
            ]
          },
          "execution_count": 52,
          "metadata": {},
          "output_type": "execute_result"
        }
      ],
      "source": [
        "data"
      ]
    },
    {
      "cell_type": "code",
      "execution_count": null,
      "metadata": {
        "id": "lvNLZt8tJf0P",
        "outputId": "26a97908-562d-4344-8db6-9278ba913874"
      },
      "outputs": [
        {
          "data": {
            "text/plain": [
              "array([5, 6])"
            ]
          },
          "execution_count": 51,
          "metadata": {},
          "output_type": "execute_result"
        }
      ],
      "source": [
        "# \"axis = 0\" opera na direção das colunas, avaliando entre linhas\n",
        "data.max(axis = 0)"
      ]
    },
    {
      "cell_type": "code",
      "execution_count": null,
      "metadata": {
        "id": "fb1hLTg2Jf0Q",
        "outputId": "f4c22ef2-f72c-4459-a035-a18e78580b5d"
      },
      "outputs": [
        {
          "data": {
            "text/plain": [
              "array([2, 4, 6])"
            ]
          },
          "execution_count": 53,
          "metadata": {},
          "output_type": "execute_result"
        }
      ],
      "source": [
        "# \"axis = 1\" opera na direação das linhas, avaliando entre colunas\n",
        "data.max(axis = 1)"
      ]
    },
    {
      "cell_type": "markdown",
      "metadata": {
        "id": "7fCzAs7FJf0Q"
      },
      "source": [
        "<img src = \"https://numpy.org/devdocs/_images/np_matrix_aggregation_row.png\" />"
      ]
    },
    {
      "cell_type": "markdown",
      "metadata": {
        "id": "_CULWvF0Jf0Q"
      },
      "source": [
        "[numpy.reshape](https://numpy.org/doc/stable/reference/generated/numpy.reshape.html)"
      ]
    },
    {
      "cell_type": "markdown",
      "metadata": {
        "id": "3NkwUA31Jf0Q"
      },
      "source": [
        "Em algumas situações, pode ser útil **reformatar** nosso conjunto de dados. Para isso, utilizamos a função *.reshape()*."
      ]
    },
    {
      "cell_type": "code",
      "execution_count": null,
      "metadata": {
        "id": "Aik3U-edJf0Q",
        "outputId": "75939ac0-737a-40bc-a1a6-caf2d92504f3"
      },
      "outputs": [
        {
          "data": {
            "text/plain": [
              "array([0, 1, 2, 3, 4, 5, 6, 7, 8, 9])"
            ]
          },
          "execution_count": 54,
          "metadata": {},
          "output_type": "execute_result"
        }
      ],
      "source": [
        "# Vamos supor um vetor de 10 elementos\n",
        "dados_originais = np.arange(0,10)\n",
        "dados_originais"
      ]
    },
    {
      "cell_type": "code",
      "execution_count": null,
      "metadata": {
        "id": "DvCPs6m9Jf0Q",
        "outputId": "b47bcf5a-a679-4592-ba77-aaabfc09bb85"
      },
      "outputs": [
        {
          "data": {
            "text/plain": [
              "array([[0, 1, 2, 3, 4],\n",
              "       [5, 6, 7, 8, 9]])"
            ]
          },
          "execution_count": 56,
          "metadata": {},
          "output_type": "execute_result"
        }
      ],
      "source": [
        "# Vamos transformá-lo em uma matriz de duas linhas\n",
        "dados_reformatados = np.reshape(dados_originais, [2,5])\n",
        "dados_reformatados"
      ]
    },
    {
      "cell_type": "code",
      "execution_count": null,
      "metadata": {
        "id": "ph7lMc5MJf0Q",
        "outputId": "4c3b69b5-d2e2-4663-f2f2-7fc5b7181670"
      },
      "outputs": [
        {
          "data": {
            "text/plain": [
              "(2, 5)"
            ]
          },
          "execution_count": 57,
          "metadata": {},
          "output_type": "execute_result"
        }
      ],
      "source": [
        "dados_reformatados.shape"
      ]
    },
    {
      "cell_type": "code",
      "execution_count": null,
      "metadata": {
        "id": "rwfJTTpXJf0R",
        "outputId": "64f60268-ad0e-4a4e-a609-3b59901c6eaf"
      },
      "outputs": [
        {
          "data": {
            "text/plain": [
              "array([[0, 1],\n",
              "       [2, 3],\n",
              "       [4, 5],\n",
              "       [6, 7],\n",
              "       [8, 9]])"
            ]
          },
          "execution_count": 58,
          "metadata": {},
          "output_type": "execute_result"
        }
      ],
      "source": [
        "# Vamos transformá-lo em uma matriz de duas colunas\n",
        "dados_reformatados = np.reshape(dados_originais, [5,2])\n",
        "dados_reformatados"
      ]
    },
    {
      "cell_type": "code",
      "execution_count": null,
      "metadata": {
        "id": "gJH-4zHKJf0R",
        "outputId": "dd6f1625-c55f-448e-e3af-26f114a9c954"
      },
      "outputs": [
        {
          "data": {
            "text/plain": [
              "(5, 2)"
            ]
          },
          "execution_count": 60,
          "metadata": {},
          "output_type": "execute_result"
        }
      ],
      "source": [
        "dados_reformatados.shape"
      ]
    },
    {
      "cell_type": "markdown",
      "metadata": {
        "id": "lq3g9A_rJf0R"
      },
      "source": [
        "**Atenção:** ao utilizar o reshape, o número de elementos total nunca pode ser alterado!"
      ]
    },
    {
      "cell_type": "code",
      "execution_count": null,
      "metadata": {
        "id": "MhmiO0dfJf0R",
        "outputId": "c49b47ea-9b1a-4108-9a9c-34eaee85e5e4"
      },
      "outputs": [
        {
          "ename": "ValueError",
          "evalue": "cannot reshape array of size 10 into shape (3,3)",
          "output_type": "error",
          "traceback": [
            "\u001b[1;31m---------------------------------------------------------------------------\u001b[0m",
            "\u001b[1;31mValueError\u001b[0m                                Traceback (most recent call last)",
            "\u001b[1;32m<ipython-input-61-30f21ae41519>\u001b[0m in \u001b[0;36m<module>\u001b[1;34m\u001b[0m\n\u001b[1;32m----> 1\u001b[1;33m \u001b[0mnp\u001b[0m\u001b[1;33m.\u001b[0m\u001b[0mreshape\u001b[0m\u001b[1;33m(\u001b[0m\u001b[0mdados_originais\u001b[0m\u001b[1;33m,\u001b[0m \u001b[1;33m[\u001b[0m\u001b[1;36m3\u001b[0m\u001b[1;33m,\u001b[0m\u001b[1;36m3\u001b[0m\u001b[1;33m]\u001b[0m\u001b[1;33m)\u001b[0m\u001b[1;33m\u001b[0m\u001b[1;33m\u001b[0m\u001b[0m\n\u001b[0m",
            "\u001b[1;32m<__array_function__ internals>\u001b[0m in \u001b[0;36mreshape\u001b[1;34m(*args, **kwargs)\u001b[0m\n",
            "\u001b[1;32m~\\anaconda3\\lib\\site-packages\\numpy\\core\\fromnumeric.py\u001b[0m in \u001b[0;36mreshape\u001b[1;34m(a, newshape, order)\u001b[0m\n\u001b[0;32m    297\u001b[0m            [5, 6]])\n\u001b[0;32m    298\u001b[0m     \"\"\"\n\u001b[1;32m--> 299\u001b[1;33m     \u001b[1;32mreturn\u001b[0m \u001b[0m_wrapfunc\u001b[0m\u001b[1;33m(\u001b[0m\u001b[0ma\u001b[0m\u001b[1;33m,\u001b[0m \u001b[1;34m'reshape'\u001b[0m\u001b[1;33m,\u001b[0m \u001b[0mnewshape\u001b[0m\u001b[1;33m,\u001b[0m \u001b[0morder\u001b[0m\u001b[1;33m=\u001b[0m\u001b[0morder\u001b[0m\u001b[1;33m)\u001b[0m\u001b[1;33m\u001b[0m\u001b[1;33m\u001b[0m\u001b[0m\n\u001b[0m\u001b[0;32m    300\u001b[0m \u001b[1;33m\u001b[0m\u001b[0m\n\u001b[0;32m    301\u001b[0m \u001b[1;33m\u001b[0m\u001b[0m\n",
            "\u001b[1;32m~\\anaconda3\\lib\\site-packages\\numpy\\core\\fromnumeric.py\u001b[0m in \u001b[0;36m_wrapfunc\u001b[1;34m(obj, method, *args, **kwds)\u001b[0m\n\u001b[0;32m     56\u001b[0m \u001b[1;33m\u001b[0m\u001b[0m\n\u001b[0;32m     57\u001b[0m     \u001b[1;32mtry\u001b[0m\u001b[1;33m:\u001b[0m\u001b[1;33m\u001b[0m\u001b[1;33m\u001b[0m\u001b[0m\n\u001b[1;32m---> 58\u001b[1;33m         \u001b[1;32mreturn\u001b[0m \u001b[0mbound\u001b[0m\u001b[1;33m(\u001b[0m\u001b[1;33m*\u001b[0m\u001b[0margs\u001b[0m\u001b[1;33m,\u001b[0m \u001b[1;33m**\u001b[0m\u001b[0mkwds\u001b[0m\u001b[1;33m)\u001b[0m\u001b[1;33m\u001b[0m\u001b[1;33m\u001b[0m\u001b[0m\n\u001b[0m\u001b[0;32m     59\u001b[0m     \u001b[1;32mexcept\u001b[0m \u001b[0mTypeError\u001b[0m\u001b[1;33m:\u001b[0m\u001b[1;33m\u001b[0m\u001b[1;33m\u001b[0m\u001b[0m\n\u001b[0;32m     60\u001b[0m         \u001b[1;31m# A TypeError occurs if the object does have such a method in its\u001b[0m\u001b[1;33m\u001b[0m\u001b[1;33m\u001b[0m\u001b[1;33m\u001b[0m\u001b[0m\n",
            "\u001b[1;31mValueError\u001b[0m: cannot reshape array of size 10 into shape (3,3)"
          ]
        }
      ],
      "source": [
        "np.reshape(dados_originais, [3,3])"
      ]
    },
    {
      "cell_type": "markdown",
      "metadata": {
        "id": "UtVs2JqTJf0R"
      },
      "source": [
        "<img src = \"https://numpy.org/devdocs/_images/np_reshape.png\" />"
      ]
    },
    {
      "cell_type": "markdown",
      "metadata": {
        "id": "grSXtRwRJf0R"
      },
      "source": [
        "#### Operações com matrizes"
      ]
    },
    {
      "cell_type": "code",
      "execution_count": null,
      "metadata": {
        "id": "i4A3fK_mJf0R",
        "outputId": "c657f1f7-4be6-4adc-fb49-69fd59d39771"
      },
      "outputs": [
        {
          "data": {
            "text/plain": [
              "array([[6, 6],\n",
              "       [1, 4]])"
            ]
          },
          "execution_count": 63,
          "metadata": {},
          "output_type": "execute_result"
        }
      ],
      "source": [
        "matriz1 = np.array([[1,2], [3,4]])\n",
        "matriz2 = np.array([[5,4], [-2,0]])\n",
        "matriz1+matriz2"
      ]
    },
    {
      "cell_type": "code",
      "execution_count": null,
      "metadata": {
        "id": "OJB-DgJDJf0S",
        "outputId": "85acc1d6-514a-4aff-8c5c-060cf47177ca"
      },
      "outputs": [
        {
          "name": "stdout",
          "output_type": "stream",
          "text": [
            "[[1 2]\n",
            " [3 4]]\n",
            "[[ 5  4]\n",
            " [-2  0]]\n"
          ]
        }
      ],
      "source": [
        "print(matriz1)\n",
        "print(matriz2)"
      ]
    },
    {
      "cell_type": "markdown",
      "metadata": {
        "id": "gkJJT805Jf0S"
      },
      "source": [
        "<img src=\"https://numpy.org/devdocs/_images/np_matrix_arithmetic.png\" />"
      ]
    },
    {
      "cell_type": "markdown",
      "metadata": {
        "id": "VfPLLZozJf0S"
      },
      "source": [
        "Diferentemente com arrays unidimensionais, conseguimos operar com matriz de tamanhos diferentes, **desde que sejam essencialmente um vetor-linha ou um vetor-coluna**."
      ]
    },
    {
      "cell_type": "code",
      "execution_count": null,
      "metadata": {
        "id": "OupsmN7KJf0S",
        "outputId": "3b4d5e09-a332-4500-9d59-cfcae849b5fb"
      },
      "outputs": [
        {
          "data": {
            "text/plain": [
              "array([[2, 3],\n",
              "       [4, 5]])"
            ]
          },
          "execution_count": 65,
          "metadata": {},
          "output_type": "execute_result"
        }
      ],
      "source": [
        "array1 = [1,1]\n",
        "matriz1 + array1"
      ]
    },
    {
      "cell_type": "markdown",
      "metadata": {
        "id": "Tfxpy-uhJf0V"
      },
      "source": [
        "<img src = \"https://numpy.org/devdocs/_images/np_matrix_broadcasting.png\" />"
      ]
    },
    {
      "cell_type": "code",
      "execution_count": null,
      "metadata": {
        "id": "ufBLchPGJf0W",
        "outputId": "4175cffa-03f4-4f47-a0fe-38fb5a30fe2b"
      },
      "outputs": [
        {
          "name": "stdout",
          "output_type": "stream",
          "text": [
            "[[1 2]\n",
            " [3 4]]\n",
            "[[ 5  4]\n",
            " [-2  0]]\n"
          ]
        }
      ],
      "source": [
        "print(matriz1)\n",
        "print(matriz2)"
      ]
    },
    {
      "cell_type": "code",
      "execution_count": null,
      "metadata": {
        "id": "eFMqDqysJf0W",
        "outputId": "f3ac60b9-7a5a-46c8-e2fd-87fd6a84aef2"
      },
      "outputs": [
        {
          "data": {
            "text/plain": [
              "array([[ 5,  8],\n",
              "       [-6,  0]])"
            ]
          },
          "execution_count": 66,
          "metadata": {},
          "output_type": "execute_result"
        }
      ],
      "source": [
        "# multiplicação elemento a elemento\n",
        "matriz1 * matriz2"
      ]
    },
    {
      "cell_type": "code",
      "execution_count": null,
      "metadata": {
        "id": "AMqHVJxNJf0W",
        "outputId": "0da5f1e5-7c4f-406d-a5a5-308533aa8f0b"
      },
      "outputs": [
        {
          "data": {
            "text/plain": [
              "array([[ 1,  4],\n",
              "       [ 7, 12]])"
            ]
          },
          "execution_count": 91,
          "metadata": {},
          "output_type": "execute_result"
        }
      ],
      "source": [
        "# multiplicação de matrizes \"tradicional\"\n",
        "matriz1.dot(matriz2)"
      ]
    },
    {
      "cell_type": "markdown",
      "metadata": {
        "id": "k-TFSAxbJf0W"
      },
      "source": [
        "Transpor a matriz equivale a \"trocar\" as linhas pelas colunas."
      ]
    },
    {
      "cell_type": "code",
      "execution_count": null,
      "metadata": {
        "id": "NX0xM9qaJf0W",
        "outputId": "ea3c5787-09d4-4335-a1a6-efd83a49f448"
      },
      "outputs": [
        {
          "data": {
            "text/plain": [
              "array([[1, 2],\n",
              "       [3, 4],\n",
              "       [5, 6]])"
            ]
          },
          "execution_count": 68,
          "metadata": {},
          "output_type": "execute_result"
        }
      ],
      "source": [
        "data"
      ]
    },
    {
      "cell_type": "code",
      "execution_count": null,
      "metadata": {
        "id": "CI5KQMgiJf0X",
        "outputId": "f69ada5e-5889-4455-ebeb-f11a0a369dd0"
      },
      "outputs": [
        {
          "data": {
            "text/plain": [
              "array([[1, 3, 5],\n",
              "       [2, 4, 6]])"
            ]
          },
          "execution_count": 71,
          "metadata": {},
          "output_type": "execute_result"
        }
      ],
      "source": [
        "data.transpose()"
      ]
    },
    {
      "cell_type": "markdown",
      "metadata": {
        "id": "C3PBdQnPJf0X"
      },
      "source": [
        "<img src = \"https://numpy.org/devdocs/_images/np_transposing_reshaping.png\" />"
      ]
    },
    {
      "cell_type": "markdown",
      "metadata": {
        "id": "CrlgqkN8Jf0X"
      },
      "source": [
        "#### Filtrando matrizes "
      ]
    },
    {
      "cell_type": "markdown",
      "metadata": {
        "id": "08p_w05UJf0X"
      },
      "source": [
        "Seguimos a mesma lógica de filtros em arrays unidimensionais, com a particularidade de que estamos lidando, agora, com mais de uma dimensão - e podemos levar isso em consideração."
      ]
    },
    {
      "cell_type": "code",
      "execution_count": null,
      "metadata": {
        "id": "91zvLyUmJf0X",
        "outputId": "2e377387-c776-412b-8fb3-69f12d944b15"
      },
      "outputs": [
        {
          "data": {
            "text/plain": [
              "array([[1, 2],\n",
              "       [3, 4],\n",
              "       [5, 6]])"
            ]
          },
          "execution_count": 73,
          "metadata": {},
          "output_type": "execute_result"
        }
      ],
      "source": [
        "data"
      ]
    },
    {
      "cell_type": "code",
      "execution_count": null,
      "metadata": {
        "id": "Iedxp71mJf0X",
        "outputId": "4c063a83-7db2-4ce8-e2e3-8a57ee1b6b14"
      },
      "outputs": [
        {
          "data": {
            "text/plain": [
              "array([[False, False],\n",
              "       [ True,  True],\n",
              "       [ True,  True]])"
            ]
          },
          "execution_count": 72,
          "metadata": {},
          "output_type": "execute_result"
        }
      ],
      "source": [
        "# filtrando a matriz como um todo\n",
        "data > 2"
      ]
    },
    {
      "cell_type": "code",
      "execution_count": null,
      "metadata": {
        "id": "9j1H3PKZJf0X",
        "outputId": "0733f7c4-7bb3-455d-ead2-07f65a1bd24a"
      },
      "outputs": [
        {
          "data": {
            "text/plain": [
              "array([[1, 2],\n",
              "       [3, 4],\n",
              "       [5, 6]])"
            ]
          },
          "execution_count": 75,
          "metadata": {},
          "output_type": "execute_result"
        }
      ],
      "source": [
        "data"
      ]
    },
    {
      "cell_type": "code",
      "execution_count": null,
      "metadata": {
        "id": "E4cJ_8R4Jf0X",
        "outputId": "c83bbbb8-2aa5-4fb7-f8fb-a7fa5d36ef19"
      },
      "outputs": [
        {
          "data": {
            "text/plain": [
              "array([False,  True])"
            ]
          },
          "execution_count": 74,
          "metadata": {},
          "output_type": "execute_result"
        }
      ],
      "source": [
        "# filtrando o primeiro elemento de cada coluna\n",
        "data[0,:] > 1"
      ]
    },
    {
      "cell_type": "code",
      "execution_count": null,
      "metadata": {
        "id": "w0OS3qknJf0X",
        "outputId": "ab0d0bdd-6ac4-4f72-e064-d8c7086fbc9c"
      },
      "outputs": [
        {
          "data": {
            "text/plain": [
              "array([False, False,  True])"
            ]
          },
          "execution_count": 76,
          "metadata": {},
          "output_type": "execute_result"
        }
      ],
      "source": [
        "# filtrando o segundo elemento de cada linha\n",
        "data[:,1] > 4"
      ]
    },
    {
      "cell_type": "markdown",
      "metadata": {
        "id": "zzxMNKOIJf0Y"
      },
      "source": [
        "Assim como fizemos anteriromente, podemos utilizar esse array booleano para indexar a matriz original."
      ]
    },
    {
      "cell_type": "code",
      "execution_count": null,
      "metadata": {
        "id": "51X8QFouJf0Y",
        "outputId": "92b4d8f7-f11d-4cd3-9e61-38c059dbec84"
      },
      "outputs": [
        {
          "data": {
            "text/plain": [
              "array([[1, 2],\n",
              "       [3, 4],\n",
              "       [5, 6]])"
            ]
          },
          "execution_count": 77,
          "metadata": {},
          "output_type": "execute_result"
        }
      ],
      "source": [
        "data"
      ]
    },
    {
      "cell_type": "code",
      "execution_count": null,
      "metadata": {
        "id": "D4rqlBKzJf0Y",
        "outputId": "29b9b599-8812-4445-ad8b-4b2db249354f"
      },
      "outputs": [
        {
          "data": {
            "text/plain": [
              "array([[5, 6]])"
            ]
          },
          "execution_count": 78,
          "metadata": {},
          "output_type": "execute_result"
        }
      ],
      "source": [
        "data[data[:,1] > 4]"
      ]
    },
    {
      "cell_type": "markdown",
      "metadata": {
        "id": "dMoCR56xJf0Y"
      },
      "source": [
        "Um outro exemplo"
      ]
    },
    {
      "cell_type": "code",
      "execution_count": null,
      "metadata": {
        "id": "XMOnuIjUJf0Y",
        "outputId": "587128c6-715f-4a99-9c0e-8e533d8d7cb1"
      },
      "outputs": [
        {
          "data": {
            "text/plain": [
              "array([[-1.76876493,  1.47004434, -0.70053502,  0.1838811 ],\n",
              "       [ 0.29015436, -1.34799717, -1.0216732 ,  0.14929889],\n",
              "       [ 2.87004739,  1.31593476,  0.01570878,  0.28678643],\n",
              "       [ 1.44978685,  0.86969622, -0.44805814, -1.32398849]])"
            ]
          },
          "execution_count": 79,
          "metadata": {},
          "output_type": "execute_result"
        }
      ],
      "source": [
        "# Vamos gerar uma matriz 4 x 4 aleatoriamente\n",
        "matriz = np.random.randn(4,4)\n",
        "matriz"
      ]
    },
    {
      "cell_type": "code",
      "execution_count": null,
      "metadata": {
        "id": "7IedJscGJf0Z",
        "outputId": "53a3a5c7-cd1c-42f3-e317-68dda29736b9"
      },
      "outputs": [
        {
          "data": {
            "text/plain": [
              "array([ 1.47004434, -1.34799717,  1.31593476,  0.86969622])"
            ]
          },
          "execution_count": 87,
          "metadata": {},
          "output_type": "execute_result"
        }
      ],
      "source": [
        "matriz[:,1]"
      ]
    },
    {
      "cell_type": "code",
      "execution_count": null,
      "metadata": {
        "id": "GrKl4_QIJf0Z",
        "outputId": "b6d6de46-5649-475f-b8cc-0000208caab8"
      },
      "outputs": [
        {
          "data": {
            "text/plain": [
              "array([ True, False,  True,  True])"
            ]
          },
          "execution_count": 80,
          "metadata": {},
          "output_type": "execute_result"
        }
      ],
      "source": [
        "# Filtremos todas as linhas cuja segunda coluna seja positiva\n",
        "matriz[:,1] > 0"
      ]
    },
    {
      "cell_type": "code",
      "execution_count": null,
      "metadata": {
        "id": "Y7WzDEpxJf0Z",
        "outputId": "fd273385-e935-48d6-ccb3-cc46200cba6a"
      },
      "outputs": [
        {
          "data": {
            "text/plain": [
              "array([[-1.76876493, -0.70053502,  0.1838811 ],\n",
              "       [ 0.29015436, -1.0216732 ,  0.14929889],\n",
              "       [ 2.87004739,  0.01570878,  0.28678643],\n",
              "       [ 1.44978685, -0.44805814, -1.32398849]])"
            ]
          },
          "execution_count": 88,
          "metadata": {},
          "output_type": "execute_result"
        }
      ],
      "source": [
        "matriz[:,matriz[:,1] > 0]"
      ]
    },
    {
      "cell_type": "code",
      "execution_count": null,
      "metadata": {
        "id": "gErsZTpuJf0Z",
        "outputId": "69c786ea-5c3e-4299-da20-2324b5e77614"
      },
      "outputs": [
        {
          "data": {
            "text/plain": [
              "array([[-1.76876493,  1.47004434, -0.70053502,  0.1838811 ],\n",
              "       [ 2.87004739,  1.31593476,  0.01570878,  0.28678643],\n",
              "       [ 1.44978685,  0.86969622, -0.44805814, -1.32398849]])"
            ]
          },
          "execution_count": 86,
          "metadata": {},
          "output_type": "execute_result"
        }
      ],
      "source": [
        "# Agora, indexemos a matriz\n",
        "matriz[matriz[:,1] > 0, :]"
      ]
    },
    {
      "cell_type": "markdown",
      "metadata": {
        "id": "gPX8gwXuJf0a"
      },
      "source": [
        "__________\n",
        "___________"
      ]
    },
    {
      "cell_type": "markdown",
      "metadata": {
        "id": "eHhT6pm0Jf0a"
      },
      "source": [
        "## Vamos praticar?"
      ]
    },
    {
      "cell_type": "markdown",
      "metadata": {
        "id": "euJBOtINJf0a"
      },
      "source": [
        "Em grupos, resolvam os exercícios a seguir."
      ]
    },
    {
      "cell_type": "markdown",
      "metadata": {
        "id": "FLex9306Jf0a"
      },
      "source": [
        "**1.** Em uma **análise de regressão**, usualmente estamos interessados em descrever relações entre variáveis de um dado conjunto de dados por meio de uma **função** que descreva, o tanto quanto possível, estas relações.\n",
        "\n",
        "Por exemplo, no gráfico abaixo, os pontos vermelhos relacionam as medidas das duas variáveis sendo avaliadas (nos eixos x e y); e a linha azul aproxima a relação entre elas por uma função linear."
      ]
    },
    {
      "cell_type": "markdown",
      "metadata": {
        "id": "7IGk0XhpJf0a"
      },
      "source": [
        "![Normdist_regression.png](attachment:Normdist_regression.png)"
      ]
    },
    {
      "cell_type": "markdown",
      "metadata": {
        "id": "p6gucL2IJf0a"
      },
      "source": [
        "É possível ver que nem todos os pontos obedecem exatamente à relação ditada pela reta (isto é, há pontos que não estão exatamente \"sobre a reta\"; mas, sim, ligeraimente acima, ou abaixo, dela). Isto, contudo, é esperado em um modelo de regressão, por inúmeras fontes de incerteza associadas às medições."
      ]
    },
    {
      "cell_type": "markdown",
      "metadata": {
        "id": "4FqjXh7uJf0b"
      },
      "source": [
        "Uma das métricas que utilizamos para avaliar a qualidade de uma regressão é o **erro quadrático médio (EQM)**, que mensura a diferença total entre cada predição da regressão ($y_{prediction}$; que no nosso caso seriam os valores de y para a reta azul) com o valor real de cada i-ésima medida ($y_{i}$; que no nosso caso seriam as coordenadas y para cada ponto vermelho do gráfico). O EQM pode ser definido como:"
      ]
    },
    {
      "cell_type": "markdown",
      "metadata": {
        "id": "Lg0_uoPoJf0b"
      },
      "source": [
        "$EQM = \\frac{1}{n}\\sum_{i=1}^{n}(y_{prediction} - y_{i})^2$."
      ]
    },
    {
      "cell_type": "markdown",
      "metadata": {
        "id": "yQYiO3xSJf0b"
      },
      "source": [
        "Isto posto, escreva uma função que calcule o EQM recebendo, como entrada, os vetores $y_{prediction}$ e $y_{i}$. Por exemplo, digamos que sua função se chame *calculate_eqm*, ela deve operar da seguinte forma:"
      ]
    },
    {
      "cell_type": "code",
      "execution_count": null,
      "metadata": {
        "id": "I6eM0RohJf0b",
        "outputId": "aed69e85-044b-45ac-e484-06000826bd91",
        "colab": {
          "base_uri": "https://localhost:8080/"
        }
      },
      "outputs": [
        {
          "output_type": "execute_result",
          "data": {
            "text/plain": [
              "array([-1, -2,  0])"
            ]
          },
          "metadata": {},
          "execution_count": 5
        }
      ],
      "source": [
        "# dados dois arrays quaisquer de mesmo tamanho, a função deve retornar o EQM\n",
        "import numpy as np\n",
        "\n",
        "y_prediction = np.array([1,2,3])\n",
        "y_i = np.array([0,0,3])\n",
        "calculate_eqm(y_prediction,y_i)"
      ]
    },
    {
      "cell_type": "code",
      "execution_count": null,
      "metadata": {
        "id": "i7D4lqhuJf0b"
      },
      "outputs": [],
      "source": [
        "# Solução\n",
        "import numpy as np\n",
        "def calculate_eqm(y_prediction,y_i):\n",
        "  diferenca = (y_prediction - y_i)**2\n",
        "  n = diferenca.size\n",
        "  diferenca = diferenca.sum()\n",
        "  EQM = 1/n*(diferenca)\n",
        "  return EQM\n"
      ]
    },
    {
      "cell_type": "code",
      "source": [
        "calculate_eqm(np.array([1,2]),np.array([3,4]))"
      ],
      "metadata": {
        "colab": {
          "base_uri": "https://localhost:8080/"
        },
        "id": "V-DB8O-6MkWv",
        "outputId": "2d281fda-2dc9-4932-e684-4863bcc12c2a"
      },
      "execution_count": null,
      "outputs": [
        {
          "output_type": "execute_result",
          "data": {
            "text/plain": [
              "4.0"
            ]
          },
          "metadata": {},
          "execution_count": 32
        }
      ]
    },
    {
      "cell_type": "markdown",
      "metadata": {
        "id": "gvWOd2nFJf0c"
      },
      "source": [
        "**2.** A eletroencefalografia (EEG) é uma técnica que mensura potenciais elétricos cerebrais em diversas regiões do escalpo do paciente. Suponha que você recebeu um conjunto de dados na forma de uma matriz de 64 x 512 elementos, em que cada linha contém o sinal gravado em um dos **eletrodos** espalhados pelo escalpo em um exame de EEG, e cada coluna contém um valor de potencial elétrico, em microvolts. "
      ]
    },
    {
      "cell_type": "markdown",
      "metadata": {
        "id": "AGIXU_WfJf0c"
      },
      "source": [
        "Como o sinal de EEG é muito suscetível a ruídos externos (interferências na qualidade do sinal), uma operação comum para atenuar a interferência no sinal consiste em tirar a média do potencial elétrico de todos os eletrodos, e subtrair este valor de cada um deles. Isto atenua fontes de ruído ao sinal comuns a todos os eletrodos. Em termos matemáticos, o sinal processado por esta operação, $X_{e,i}$ para cada eletrodo (e) e amostra (i), é dado por:"
      ]
    },
    {
      "cell_type": "markdown",
      "metadata": {
        "id": "uc4evwO9Jf0c"
      },
      "source": [
        "$X_{e,i} = \\hat{X_{e,i}} - \\frac{1}{N}\\sum_{e=1}^{N}\\hat{X_{e,i}}$,\n",
        "\n",
        "em que $\\hat{X_{e,i}}$ representa o sinal original (ou seja, é a matriz de entrada de 64 x 512 elementos), e $N$ indica o total de eletrodos."
      ]
    },
    {
      "cell_type": "markdown",
      "metadata": {
        "id": "3oE5pQs5Jf0c"
      },
      "source": [
        "Com o exposto acima, escreva uma função que retorne uma matriz com os sinais de EEG processados conforme a operação mencionada. Sua função deve operar conforme o exemplo abaixo."
      ]
    },
    {
      "cell_type": "code",
      "execution_count": null,
      "metadata": {
        "id": "k_LxBCdSJf0c",
        "outputId": "dd39bb04-249e-4bf9-cfd4-eae861914a71"
      },
      "outputs": [
        {
          "data": {
            "text/plain": [
              "(64, 512)"
            ]
          },
          "execution_count": 89,
          "metadata": {},
          "output_type": "execute_result"
        }
      ],
      "source": [
        "# vamos supor uma matriz de entrada gerada por dados aleatórios\n",
        "X = np.random.randn(64,512)\n",
        "X.shape # apenas para verificar as dimensões"
      ]
    },
    {
      "cell_type": "code",
      "execution_count": null,
      "metadata": {
        "id": "S1_w2NanJf0d",
        "outputId": "da98e308-9a31-4a81-dc78-331b50f97ca5"
      },
      "outputs": [
        {
          "data": {
            "text/plain": [
              "(64, 512)"
            ]
          },
          "execution_count": 92,
          "metadata": {},
          "output_type": "execute_result"
        }
      ],
      "source": [
        "# a função deve executar a operação equacionada anteriormente, retornando uma nova matriz\n",
        "X_processado = process_EEG_signal(X)\n",
        "X_processado.shape"
      ]
    },
    {
      "cell_type": "code",
      "execution_count": null,
      "metadata": {
        "id": "Gi31FlsqJf0d",
        "outputId": "2c189131-b742-457a-86b7-c5201b105eb5"
      },
      "outputs": [
        {
          "data": {
            "text/plain": [
              "-53.08727366483029"
            ]
          },
          "execution_count": 93,
          "metadata": {},
          "output_type": "execute_result"
        }
      ],
      "source": [
        "# Somando as diferenças entre cada elemento das duas matrizes, apenas para ilustrar que elas não são iguais\n",
        "(X_processado - X).sum()"
      ]
    },
    {
      "cell_type": "code",
      "execution_count": null,
      "metadata": {
        "id": "2lNsJn3GJf0d",
        "outputId": "1a79a0ee-a025-4b5e-b044-9fe7d4e3cf4c"
      },
      "outputs": [
        {
          "data": {
            "text/plain": [
              "array([[ 0.29305925,  0.89663038, -0.61032202, ..., -0.88086364,\n",
              "        -0.8818789 ,  0.51260497],\n",
              "       [-0.01274415,  1.05439522,  0.47958092, ..., -2.15387924,\n",
              "         0.70721168,  0.97029889],\n",
              "       [ 1.09478371, -0.16120847,  1.58400361, ...,  0.20981813,\n",
              "         2.17373837,  0.94032162],\n",
              "       ...,\n",
              "       [-0.45294842, -2.28939505,  1.10111998, ...,  1.63581703,\n",
              "        -0.39394924, -1.13400723],\n",
              "       [-0.22669886,  0.25413429, -1.17870637, ..., -0.09509442,\n",
              "         0.90733806,  0.37999411],\n",
              "       [ 0.15476933, -0.03654717, -1.09982762, ...,  0.67600047,\n",
              "        -0.84533328, -0.56433144]])"
            ]
          },
          "execution_count": 94,
          "metadata": {},
          "output_type": "execute_result"
        }
      ],
      "source": [
        "# Visualizando as matrizes, para verificar uma vez mais que, de fato, os elementos são diferentes\n",
        "X"
      ]
    },
    {
      "cell_type": "code",
      "execution_count": null,
      "metadata": {
        "id": "kUZJOCyFJf0d",
        "outputId": "84ecd65e-eb50-4e82-cb9c-fd4cf24d5e6f"
      },
      "outputs": [
        {
          "data": {
            "text/plain": [
              "array([[ 0.36713022,  0.85772513, -0.54902169, ..., -0.85626087,\n",
              "        -0.97611435,  0.51718998],\n",
              "       [ 0.06132682,  1.01548997,  0.54088126, ..., -2.12927647,\n",
              "         0.61297623,  0.97488389],\n",
              "       [ 1.16885469, -0.20011372,  1.64530394, ...,  0.23442091,\n",
              "         2.07950292,  0.94490663],\n",
              "       ...,\n",
              "       [-0.37887744, -2.3283003 ,  1.16242031, ...,  1.6604198 ,\n",
              "        -0.4881847 , -1.12942223],\n",
              "       [-0.15262788,  0.21522904, -1.11740604, ..., -0.07049164,\n",
              "         0.81310261,  0.38457911],\n",
              "       [ 0.22884031, -0.07545242, -1.03852729, ...,  0.70060324,\n",
              "        -0.93956874, -0.55974643]])"
            ]
          },
          "execution_count": 95,
          "metadata": {},
          "output_type": "execute_result"
        }
      ],
      "source": [
        "# Matriz após o processamento descrito no enunciado\n",
        "X_processado"
      ]
    },
    {
      "cell_type": "code",
      "execution_count": null,
      "metadata": {
        "id": "7ySF8sQ9Jf0d"
      },
      "outputs": [],
      "source": [
        "# Solução\n",
        "import numpy as np\n",
        "\n",
        "def process_EEG_signal(X):\n",
        "  n = X.size\n",
        "  soma = X.sum()\n",
        "  media = 1/n*soma\n",
        "  X_processado = X - media\n",
        "  return X_processado\n"
      ]
    },
    {
      "cell_type": "code",
      "source": [
        "X = np.random.randn(64,512)\n",
        "process_EEG_signal(X)"
      ],
      "metadata": {
        "colab": {
          "base_uri": "https://localhost:8080/"
        },
        "id": "g3KXrk2ASMYA",
        "outputId": "72d29db1-30d5-43ee-db07-98812cd9ae79"
      },
      "execution_count": null,
      "outputs": [
        {
          "output_type": "execute_result",
          "data": {
            "text/plain": [
              "array([[ 0.33428814, -0.35214913, -2.30715088, ...,  0.63177549,\n",
              "         0.9715355 , -1.3123182 ],\n",
              "       [-0.08789858, -0.80393698, -0.76035602, ..., -0.05380364,\n",
              "         0.36266301,  2.04554072],\n",
              "       [ 2.36958738, -0.86859052, -0.6346777 , ..., -0.97703451,\n",
              "        -0.38748801,  1.12816359],\n",
              "       ...,\n",
              "       [-0.78770559, -1.29062318, -0.55452622, ...,  0.25389346,\n",
              "        -0.46072786, -0.72586965],\n",
              "       [ 1.30335694, -1.05405477, -1.76817954, ...,  0.42677405,\n",
              "        -0.0524331 ,  0.30595581],\n",
              "       [ 0.66612518,  0.16268057, -0.35827111, ...,  1.65025918,\n",
              "        -0.9011505 , -0.92674818]])"
            ]
          },
          "metadata": {},
          "execution_count": 9
        }
      ]
    },
    {
      "cell_type": "markdown",
      "metadata": {
        "id": "veZUbYs6Jf0e"
      },
      "source": [
        "**3.** Em estatística, um **outlier** é um valor que destoa consideravelmente da distribuição à qual está associado. Um dos critérios para idenficar outliers consiste em encontrar a **distância interquantil** (IQR), ou seja, a diferença entre o terceiro (Q3) e o primeiro quartis (Q1) da distribuição, e tomar como outliers todos os pontos abaixo de 1.5*IQR - Q1, ou acima de 1.5*IQR + Q3."
      ]
    },
    {
      "cell_type": "code",
      "source": [],
      "metadata": {
        "id": "1RvMbCkfyUUV"
      },
      "execution_count": null,
      "outputs": []
    },
    {
      "cell_type": "markdown",
      "metadata": {
        "id": "yI4OF3spJf0e"
      },
      "source": [
        "<img src = \"https://blog.curso-r.com/images/posts/banner/outlier.webp\" />"
      ]
    },
    {
      "cell_type": "markdown",
      "metadata": {
        "id": "VTOtiu0cJf0e"
      },
      "source": [
        "Escreva uma função que, dada uma matriz de dados de entrada de dimensões $N_{observações} \\times N_{features}$ retorne três requisitos: \n",
        "- uma matriz booleana indicando a existência de outliers nos dados de entrada;\n",
        "- a quantidade de outliers\n",
        "- quem são os outliers (os valores)."
      ]
    },
    {
      "cell_type": "markdown",
      "metadata": {
        "id": "qjEYwe8CJf0e"
      },
      "source": [
        "**Algumas definições:**\n",
        "- um *quantil* divide a distribuição, após ordenados os pontos, segundo algum ponto de corte;\n",
        "- o **primeiro quartil** é o ponto para o qual 25 % dos valores da distribuição estão abaixo dele;\n",
        "- o **terceiro quartil** é o ponto para o qual 75 % dos valores da distribuição estão abaixo dele.\n",
        "\n",
        "Pode ser útil consultar a função **numpy.quantile**."
      ]
    },
    {
      "cell_type": "markdown",
      "metadata": {
        "id": "zs29ux2rJf0e"
      },
      "source": [
        "Exemplo de operação da função:"
      ]
    },
    {
      "cell_type": "code",
      "execution_count": null,
      "metadata": {
        "id": "lpmwwx7AJf0f",
        "outputId": "f2290d66-fd01-4225-ec68-c594e26c04db"
      },
      "outputs": [
        {
          "data": {
            "text/plain": [
              "array([[-2.02108952,  0.57945921, -2.23074965, ..., -0.60349514,\n",
              "         0.92180452, -0.15625722],\n",
              "       [ 0.24904397,  0.03493447,  0.3515052 , ..., -0.46950081,\n",
              "         0.20361331,  0.02715956],\n",
              "       [ 0.55902525, -0.48435434,  0.90413414, ..., -0.54425743,\n",
              "        -0.80769134, -0.07912549],\n",
              "       ...,\n",
              "       [-1.04069388, -0.24245725, -2.00308877, ...,  0.4084777 ,\n",
              "        -1.81516131,  0.39063118],\n",
              "       [-1.39275097,  0.3989636 ,  0.2926223 , ...,  1.2620666 ,\n",
              "         0.72262949,  1.50737559],\n",
              "       [ 0.15922011, -0.79810788, -1.60939896, ..., -0.08214499,\n",
              "        -0.13167475,  0.15990558]])"
            ]
          },
          "execution_count": 158,
          "metadata": {},
          "output_type": "execute_result"
        }
      ],
      "source": [
        "# Geremos um conjunto de dados qualquer\n",
        "X = np.random.randn(300,15)\n",
        "X"
      ]
    },
    {
      "cell_type": "code",
      "execution_count": null,
      "metadata": {
        "id": "DDX-Nw9BJf0f"
      },
      "outputs": [],
      "source": [
        "# identificamos os requisitos com nossa com nossa função \"locate_outliers\"\n",
        "is_outlier, outliers_count, outliers = locate_outliers(X)"
      ]
    },
    {
      "cell_type": "code",
      "execution_count": null,
      "metadata": {
        "id": "Fm3-Htd_Jf0f",
        "outputId": "11e8ded1-2d71-43bd-871e-6e89efff78ad"
      },
      "outputs": [
        {
          "data": {
            "text/plain": [
              "array([[False, False, False, ..., False, False, False],\n",
              "       [False, False, False, ..., False, False, False],\n",
              "       [False, False, False, ..., False, False, False],\n",
              "       ...,\n",
              "       [False, False, False, ..., False, False, False],\n",
              "       [False, False, False, ..., False, False, False],\n",
              "       [False, False, False, ..., False, False, False]])"
            ]
          },
          "execution_count": 168,
          "metadata": {},
          "output_type": "execute_result"
        }
      ],
      "source": [
        "is_outlier"
      ]
    },
    {
      "cell_type": "code",
      "execution_count": null,
      "metadata": {
        "id": "c4Rh9A1rJf0f",
        "outputId": "907f5810-8d93-47f2-edbe-a9f7503dc154"
      },
      "outputs": [
        {
          "data": {
            "text/plain": [
              "44"
            ]
          },
          "execution_count": 165,
          "metadata": {},
          "output_type": "execute_result"
        }
      ],
      "source": [
        "outliers_count"
      ]
    },
    {
      "cell_type": "code",
      "execution_count": null,
      "metadata": {
        "id": "46U7fcRaJf0f",
        "outputId": "b77d4cb7-80bb-4aa2-9d23-4d690828c16a"
      },
      "outputs": [
        {
          "data": {
            "text/plain": [
              "array([-2.67240384,  3.00270904,  3.62317101,  3.18867865,  2.55581522,\n",
              "       -2.82091429,  2.8757892 ,  2.70666036,  3.19514999, -3.40550318,\n",
              "       -3.39825827,  2.6727295 ,  2.54498296, -2.69447104,  3.19521603,\n",
              "        2.66372172, -2.77444948,  2.77421152,  2.69992869, -2.84831109,\n",
              "       -2.83695779, -2.45908227,  3.07802106,  2.89314015, -2.68574682,\n",
              "       -2.85019494,  2.43399574,  2.44291266, -2.92595937, -2.95911074,\n",
              "       -3.03966003,  2.77543068, -2.67368414, -2.79965402, -3.0501958 ,\n",
              "       -2.5437387 ,  3.08550649, -3.17666255, -3.05795476, -3.09826467,\n",
              "        3.1399469 ,  3.18141942,  2.90564257, -2.89505054])"
            ]
          },
          "execution_count": 166,
          "metadata": {},
          "output_type": "execute_result"
        }
      ],
      "source": [
        "outliers"
      ]
    },
    {
      "cell_type": "code",
      "execution_count": null,
      "metadata": {
        "id": "jgOfOgElJf0f"
      },
      "outputs": [],
      "source": [
        "# Solução"
      ]
    },
    {
      "cell_type": "code",
      "source": [
        "import numpy as np\n",
        "\n",
        "def locate_outliers(X):\n",
        "  Q1 = np.quantile(X, 0.25)\n",
        "  Q3 = np.quantile(X, 0.75)\n",
        "  IQR = Q3 - Q1\n",
        "  limite1 = (1.5*IQR) - Q1\n",
        "  limite2= (1.5*IQR) + Q3\n",
        "  is_outlier = ((X < limite1) | (X > limite2))\n",
        "  outlier = X[(X < limite1) | (X > limite2)]\n",
        "  outlier.size\n",
        "  return [is_outlier,\n",
        "          outlier.size,\n",
        "          outlier\n",
        "          ]"
      ],
      "metadata": {
        "id": "dNTQ36f_sH41"
      },
      "execution_count": null,
      "outputs": []
    },
    {
      "cell_type": "code",
      "source": [
        "X = np.random.randint(0,30,15)\n",
        "locate_outliers(X)\n"
      ],
      "metadata": {
        "colab": {
          "base_uri": "https://localhost:8080/"
        },
        "id": "fQxOyfZNsR2a",
        "outputId": "d269e1e0-ce26-45c5-d51a-f0bfd6ca38fa"
      },
      "execution_count": null,
      "outputs": [
        {
          "output_type": "execute_result",
          "data": {
            "text/plain": [
              "[array([ True,  True,  True, False, False, False,  True, False, False,\n",
              "        False, False,  True, False,  True, False]),\n",
              " 6,\n",
              " array([9, 3, 1, 8, 5, 9])]"
            ]
          },
          "metadata": {},
          "execution_count": 159
        }
      ]
    }
  ],
  "metadata": {
    "kernelspec": {
      "display_name": "Python 3",
      "language": "python",
      "name": "python3"
    },
    "language_info": {
      "codemirror_mode": {
        "name": "ipython",
        "version": 3
      },
      "file_extension": ".py",
      "mimetype": "text/x-python",
      "name": "python",
      "nbconvert_exporter": "python",
      "pygments_lexer": "ipython3",
      "version": "3.8.5"
    },
    "colab": {
      "provenance": []
    }
  },
  "nbformat": 4,
  "nbformat_minor": 0
}